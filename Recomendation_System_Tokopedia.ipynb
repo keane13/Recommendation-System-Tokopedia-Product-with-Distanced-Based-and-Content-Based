{
  "cells": [
    {
      "cell_type": "markdown",
      "metadata": {
        "id": "view-in-github",
        "colab_type": "text"
      },
      "source": [
        "<a href=\"https://colab.research.google.com/github/keane13/Recommendation-System-Tokopedia-Product-with-Distanced-Based-and-Content-Based/blob/main/Recomendation_System_Tokopedia.ipynb\" target=\"_parent\"><img src=\"https://colab.research.google.com/assets/colab-badge.svg\" alt=\"Open In Colab\"/></a>"
      ]
    },
    {
      "cell_type": "markdown",
      "metadata": {
        "id": "yM2rEXmJZvcX"
      },
      "source": [
        "# Recomendation System Tokopedia\n"
      ]
    },
    {
      "cell_type": "markdown",
      "metadata": {
        "id": "ZfB5M6hqZvcc"
      },
      "source": [
        "### 1. Data Extraction"
      ]
    },
    {
      "cell_type": "code",
      "execution_count": null,
      "metadata": {
        "id": "CCX_fNdPZvcd",
        "outputId": "8365b3d4-2070-459f-8890-b4257b23d330"
      },
      "outputs": [
        {
          "name": "stderr",
          "output_type": "stream",
          "text": [
            "C:\\Users\\USER\\Anaconda3\\lib\\site-packages\\dask\\dataframe\\utils.py:14: FutureWarning: pandas.util.testing is deprecated. Use the functions in the public API at pandas.testing instead.\n",
            "  import pandas.util.testing as tm\n"
          ]
        }
      ],
      "source": [
        "import numpy as np\n",
        "import pandas as pd\n",
        "import seaborn as sn\n",
        "import warnings\n",
        "import matplotlib.pyplot as plt\n",
        "\n",
        "from sklearn.model_selection import train_test_split\n",
        "from sklearn.ensemble import RandomForestRegressor\n",
        "import xgboost as xgb\n",
        "from sklearn.tree import DecisionTreeRegressor\n",
        "\n",
        "import xgboost as xgb\n",
        "from sklearn.preprocessing import LabelEncoder, OneHotEncoder, MinMaxScaler, StandardScaler\n",
        "from sklearn.neighbors import KNeighborsRegressor\n",
        "from sklearn.metrics import mean_squared_error, accuracy_score, r2_score, mean_absolute_error\n",
        "from sklearn import metrics"
      ]
    },
    {
      "cell_type": "code",
      "execution_count": null,
      "metadata": {
        "id": "o-FxNCzhZvcg"
      },
      "outputs": [],
      "source": [
        "dt=pd.read_csv('product_reviews_tokped.csv', low_memory=False)"
      ]
    },
    {
      "cell_type": "code",
      "execution_count": null,
      "metadata": {
        "id": "nmjrV2yPZvch",
        "outputId": "405609c2-0277-4f56-a737-bac4132bb369"
      },
      "outputs": [
        {
          "data": {
            "text/html": [
              "<div>\n",
              "<style scoped>\n",
              "    .dataframe tbody tr th:only-of-type {\n",
              "        vertical-align: middle;\n",
              "    }\n",
              "\n",
              "    .dataframe tbody tr th {\n",
              "        vertical-align: top;\n",
              "    }\n",
              "\n",
              "    .dataframe thead th {\n",
              "        text-align: right;\n",
              "    }\n",
              "</style>\n",
              "<table border=\"1\" class=\"dataframe\">\n",
              "  <thead>\n",
              "    <tr style=\"text-align: right;\">\n",
              "      <th></th>\n",
              "      <th>Unnamed: 0</th>\n",
              "      <th>text</th>\n",
              "      <th>rating</th>\n",
              "      <th>category</th>\n",
              "      <th>product_name</th>\n",
              "      <th>product_id</th>\n",
              "      <th>sold</th>\n",
              "      <th>shop_id</th>\n",
              "      <th>product_url</th>\n",
              "    </tr>\n",
              "  </thead>\n",
              "  <tbody>\n",
              "    <tr>\n",
              "      <th>0</th>\n",
              "      <td>1</td>\n",
              "      <td>Barang sesuai pesanan dan cepat sampai</td>\n",
              "      <td>5</td>\n",
              "      <td>pertukangan</td>\n",
              "      <td>Staples Dekorasi Staples Kayu + Refill 8mm - S...</td>\n",
              "      <td>418660637</td>\n",
              "      <td>1</td>\n",
              "      <td>1740837</td>\n",
              "      <td>https://www.tokopedia.com/shakaonline87/staple...</td>\n",
              "    </tr>\n",
              "    <tr>\n",
              "      <th>1</th>\n",
              "      <td>2</td>\n",
              "      <td>Barang bagus harga murah</td>\n",
              "      <td>5</td>\n",
              "      <td>pertukangan</td>\n",
              "      <td>STAPLE GUN ATS 3 WAY TACKER - STAPLES JOK TEMB...</td>\n",
              "      <td>416032545</td>\n",
              "      <td>11</td>\n",
              "      <td>1477109</td>\n",
              "      <td>https://www.tokopedia.com/juraganperkakas/stap...</td>\n",
              "    </tr>\n",
              "    <tr>\n",
              "      <th>2</th>\n",
              "      <td>3</td>\n",
              "      <td>Paket rapi...mantap....cepat....sampe ke tujuan</td>\n",
              "      <td>5</td>\n",
              "      <td>pertukangan</td>\n",
              "      <td>STAPLE GUN ATS 3 WAY TACKER - STAPLES JOK TEMB...</td>\n",
              "      <td>416032545</td>\n",
              "      <td>11</td>\n",
              "      <td>1477109</td>\n",
              "      <td>https://www.tokopedia.com/juraganperkakas/stap...</td>\n",
              "    </tr>\n",
              "    <tr>\n",
              "      <th>3</th>\n",
              "      <td>4</td>\n",
              "      <td>ya saya puas dgn barangnya</td>\n",
              "      <td>5</td>\n",
              "      <td>pertukangan</td>\n",
              "      <td>ALAT STAPLES TEMBAK &amp;#40;AIR NAILER GUN&amp;#41; O...</td>\n",
              "      <td>102279869</td>\n",
              "      <td>5</td>\n",
              "      <td>771395</td>\n",
              "      <td>https://www.tokopedia.com/kamarmesin/alat-stap...</td>\n",
              "    </tr>\n",
              "    <tr>\n",
              "      <th>4</th>\n",
              "      <td>5</td>\n",
              "      <td>Responya luar biasa b mantap</td>\n",
              "      <td>5</td>\n",
              "      <td>pertukangan</td>\n",
              "      <td>Isi Refill Staples Jok Kulit Motor / Staple Gu...</td>\n",
              "      <td>190679689</td>\n",
              "      <td>787</td>\n",
              "      <td>969999</td>\n",
              "      <td>https://www.tokopedia.com/mitrapersada/isi-ref...</td>\n",
              "    </tr>\n",
              "  </tbody>\n",
              "</table>\n",
              "</div>"
            ],
            "text/plain": [
              "   Unnamed: 0                                             text  rating  \\\n",
              "0           1           Barang sesuai pesanan dan cepat sampai       5   \n",
              "1           2                         Barang bagus harga murah       5   \n",
              "2           3  Paket rapi...mantap....cepat....sampe ke tujuan       5   \n",
              "3           4                       ya saya puas dgn barangnya       5   \n",
              "4           5                     Responya luar biasa b mantap       5   \n",
              "\n",
              "      category                                       product_name  product_id  \\\n",
              "0  pertukangan  Staples Dekorasi Staples Kayu + Refill 8mm - S...   418660637   \n",
              "1  pertukangan  STAPLE GUN ATS 3 WAY TACKER - STAPLES JOK TEMB...   416032545   \n",
              "2  pertukangan  STAPLE GUN ATS 3 WAY TACKER - STAPLES JOK TEMB...   416032545   \n",
              "3  pertukangan  ALAT STAPLES TEMBAK &#40;AIR NAILER GUN&#41; O...   102279869   \n",
              "4  pertukangan  Isi Refill Staples Jok Kulit Motor / Staple Gu...   190679689   \n",
              "\n",
              "  sold  shop_id                                        product_url  \n",
              "0    1  1740837  https://www.tokopedia.com/shakaonline87/staple...  \n",
              "1   11  1477109  https://www.tokopedia.com/juraganperkakas/stap...  \n",
              "2   11  1477109  https://www.tokopedia.com/juraganperkakas/stap...  \n",
              "3    5   771395  https://www.tokopedia.com/kamarmesin/alat-stap...  \n",
              "4  787   969999  https://www.tokopedia.com/mitrapersada/isi-ref...  "
            ]
          },
          "execution_count": 39,
          "metadata": {},
          "output_type": "execute_result"
        }
      ],
      "source": [
        "dt.head()"
      ]
    },
    {
      "cell_type": "code",
      "execution_count": null,
      "metadata": {
        "id": "_4rk1v3HZvci",
        "outputId": "5e4e450d-1f9b-4cd7-edd1-59360f332587"
      },
      "outputs": [
        {
          "data": {
            "text/plain": [
              "(40607, 9)"
            ]
          },
          "execution_count": 19,
          "metadata": {},
          "output_type": "execute_result"
        }
      ],
      "source": [
        "dt.shape"
      ]
    },
    {
      "cell_type": "code",
      "execution_count": null,
      "metadata": {
        "id": "txwP4Z2wZvcj",
        "outputId": "1cd8bd94-f853-40f5-a75f-a7b873bf114b"
      },
      "outputs": [
        {
          "data": {
            "text/plain": [
              "0"
            ]
          },
          "execution_count": 18,
          "metadata": {},
          "output_type": "execute_result"
        }
      ],
      "source": [
        "dt.duplicated().sum()"
      ]
    },
    {
      "cell_type": "code",
      "execution_count": null,
      "metadata": {
        "id": "SI1GZ3GuZvcj",
        "outputId": "23e37329-ef8b-4d85-8ee5-67e59e7e5382"
      },
      "outputs": [
        {
          "name": "stdout",
          "output_type": "stream",
          "text": [
            "<class 'pandas.core.frame.DataFrame'>\n",
            "RangeIndex: 40607 entries, 0 to 40606\n",
            "Data columns (total 9 columns):\n",
            " #   Column        Non-Null Count  Dtype \n",
            "---  ------        --------------  ----- \n",
            " 0   Unnamed: 0    40607 non-null  int64 \n",
            " 1   text          40607 non-null  object\n",
            " 2   rating        40607 non-null  int64 \n",
            " 3   category      40607 non-null  object\n",
            " 4   product_name  40607 non-null  object\n",
            " 5   product_id    40607 non-null  int64 \n",
            " 6   sold          40593 non-null  object\n",
            " 7   shop_id       40607 non-null  int64 \n",
            " 8   product_url   40607 non-null  object\n",
            "dtypes: int64(4), object(5)\n",
            "memory usage: 2.8+ MB\n"
          ]
        }
      ],
      "source": [
        "dt.info()"
      ]
    },
    {
      "cell_type": "code",
      "execution_count": null,
      "metadata": {
        "id": "Bciwm2w7Zvck"
      },
      "outputs": [],
      "source": [
        "dt=dt.drop(['text','category','sold','product_url','Unnamed: 0'], axis=1)"
      ]
    },
    {
      "cell_type": "code",
      "execution_count": null,
      "metadata": {
        "id": "juRJ_iqWZvcl"
      },
      "outputs": [],
      "source": [
        "dt['sold']=pd.to_numeric(dt['sold'],errors='coerce')"
      ]
    },
    {
      "cell_type": "code",
      "execution_count": null,
      "metadata": {
        "id": "p55CBpV_Zvcm",
        "outputId": "83ea4a1b-d698-477c-edfd-be9177c45472"
      },
      "outputs": [
        {
          "data": {
            "text/html": [
              "<div>\n",
              "<style scoped>\n",
              "    .dataframe tbody tr th:only-of-type {\n",
              "        vertical-align: middle;\n",
              "    }\n",
              "\n",
              "    .dataframe tbody tr th {\n",
              "        vertical-align: top;\n",
              "    }\n",
              "\n",
              "    .dataframe thead th {\n",
              "        text-align: right;\n",
              "    }\n",
              "</style>\n",
              "<table border=\"1\" class=\"dataframe\">\n",
              "  <thead>\n",
              "    <tr style=\"text-align: right;\">\n",
              "      <th></th>\n",
              "      <th>rating</th>\n",
              "      <th>product_name</th>\n",
              "      <th>product_id</th>\n",
              "      <th>shop_id</th>\n",
              "    </tr>\n",
              "  </thead>\n",
              "  <tbody>\n",
              "    <tr>\n",
              "      <th>0</th>\n",
              "      <td>5</td>\n",
              "      <td>Staples Dekorasi Staples Kayu + Refill 8mm - S...</td>\n",
              "      <td>418660637</td>\n",
              "      <td>1740837</td>\n",
              "    </tr>\n",
              "    <tr>\n",
              "      <th>1</th>\n",
              "      <td>5</td>\n",
              "      <td>STAPLE GUN ATS 3 WAY TACKER - STAPLES JOK TEMB...</td>\n",
              "      <td>416032545</td>\n",
              "      <td>1477109</td>\n",
              "    </tr>\n",
              "    <tr>\n",
              "      <th>2</th>\n",
              "      <td>5</td>\n",
              "      <td>STAPLE GUN ATS 3 WAY TACKER - STAPLES JOK TEMB...</td>\n",
              "      <td>416032545</td>\n",
              "      <td>1477109</td>\n",
              "    </tr>\n",
              "    <tr>\n",
              "      <th>3</th>\n",
              "      <td>5</td>\n",
              "      <td>ALAT STAPLES TEMBAK &amp;#40;AIR NAILER GUN&amp;#41; O...</td>\n",
              "      <td>102279869</td>\n",
              "      <td>771395</td>\n",
              "    </tr>\n",
              "    <tr>\n",
              "      <th>4</th>\n",
              "      <td>5</td>\n",
              "      <td>Isi Refill Staples Jok Kulit Motor / Staple Gu...</td>\n",
              "      <td>190679689</td>\n",
              "      <td>969999</td>\n",
              "    </tr>\n",
              "  </tbody>\n",
              "</table>\n",
              "</div>"
            ],
            "text/plain": [
              "   rating                                       product_name  product_id  \\\n",
              "0       5  Staples Dekorasi Staples Kayu + Refill 8mm - S...   418660637   \n",
              "1       5  STAPLE GUN ATS 3 WAY TACKER - STAPLES JOK TEMB...   416032545   \n",
              "2       5  STAPLE GUN ATS 3 WAY TACKER - STAPLES JOK TEMB...   416032545   \n",
              "3       5  ALAT STAPLES TEMBAK &#40;AIR NAILER GUN&#41; O...   102279869   \n",
              "4       5  Isi Refill Staples Jok Kulit Motor / Staple Gu...   190679689   \n",
              "\n",
              "   shop_id  \n",
              "0  1740837  \n",
              "1  1477109  \n",
              "2  1477109  \n",
              "3   771395  \n",
              "4   969999  "
            ]
          },
          "execution_count": 8,
          "metadata": {},
          "output_type": "execute_result"
        }
      ],
      "source": [
        "dt.head()"
      ]
    },
    {
      "cell_type": "code",
      "execution_count": null,
      "metadata": {
        "id": "lIk6EOD6Zvcm",
        "outputId": "f08f4d36-39fa-4e09-ff38-46e380b25f89"
      },
      "outputs": [
        {
          "name": "stdout",
          "output_type": "stream",
          "text": [
            " Jumlah Rating: <bound method IndexOpsMixin.value_counts of 0        5\n",
            "1        5\n",
            "2        5\n",
            "3        5\n",
            "4        5\n",
            "        ..\n",
            "40602    1\n",
            "40603    1\n",
            "40604    1\n",
            "40605    1\n",
            "40606    1\n",
            "Name: rating, Length: 40607, dtype: int64>\n",
            " Jumlah Product: <bound method IndexOpsMixin.value_counts of 0        5\n",
            "1        5\n",
            "2        5\n",
            "3        5\n",
            "4        5\n",
            "        ..\n",
            "40602    1\n",
            "40603    1\n",
            "40604    1\n",
            "40605    1\n",
            "40606    1\n",
            "Name: rating, Length: 40607, dtype: int64>\n",
            " Jumlah User ID: <bound method IndexOpsMixin.value_counts of 0        5\n",
            "1        5\n",
            "2        5\n",
            "3        5\n",
            "4        5\n",
            "        ..\n",
            "40602    1\n",
            "40603    1\n",
            "40604    1\n",
            "40605    1\n",
            "40606    1\n",
            "Name: rating, Length: 40607, dtype: int64>\n"
          ]
        },
        {
          "data": {
            "text/plain": [
              "<bound method DataFrame.value_counts of        Unnamed: 0                                               text  rating  \\\n",
              "0               1             Barang sesuai pesanan dan cepat sampai       5   \n",
              "1               2                           Barang bagus harga murah       5   \n",
              "2               3    Paket rapi...mantap....cepat....sampe ke tujuan       5   \n",
              "3               4                         ya saya puas dgn barangnya       5   \n",
              "4               5                       Responya luar biasa b mantap       5   \n",
              "...           ...                                                ...     ...   \n",
              "40602       40889                gak bisa ditutup.. ukuran gak pas..       1   \n",
              "40603       40890  Penjual krg peduli dan brg jelek. Brg yg dikir...       1   \n",
              "40604       40891  pelayanan kurang sigap, berhari2 dr nanya baik...       1   \n",
              "40605       40892  barang yg dikirim tsk sesuai wrn, kl memang dr...       1   \n",
              "40606       40893  Pihak penjual memberikan respon yang buruk kep...       1   \n",
              "\n",
              "          category                                       product_name  \\\n",
              "0      pertukangan  Staples Dekorasi Staples Kayu + Refill 8mm - S...   \n",
              "1      pertukangan  STAPLE GUN ATS 3 WAY TACKER - STAPLES JOK TEMB...   \n",
              "2      pertukangan  STAPLE GUN ATS 3 WAY TACKER - STAPLES JOK TEMB...   \n",
              "3      pertukangan  ALAT STAPLES TEMBAK &#40;AIR NAILER GUN&#41; O...   \n",
              "4      pertukangan  Isi Refill Staples Jok Kulit Motor / Staple Gu...   \n",
              "...            ...                                                ...   \n",
              "40602     olahraga  MINERAL WATER POT WATER PURIFIER 28 liter BIO ...   \n",
              "40603     olahraga  PANCI PRESTO IDEALIFE 7 LITER - IL 707 &#40; I...   \n",
              "40604     olahraga  EXCIDER BIKE 2 - sepeda fitnes magnetic lipat ...   \n",
              "40605     olahraga  TOTAL FITNES ALAT FITNESS SIT UP BENCH TOTAL &...   \n",
              "40606     olahraga  SIT UP BENCH HITAM 3 SISI - SITUP BANCH INCLIN...   \n",
              "\n",
              "       product_id   sold  shop_id  \\\n",
              "0       418660637      1  1740837   \n",
              "1       416032545     11  1477109   \n",
              "2       416032545     11  1477109   \n",
              "3       102279869      5   771395   \n",
              "4       190679689    787   969999   \n",
              "...           ...    ...      ...   \n",
              "40602   144442054      2   648559   \n",
              "40603   313781913      1   648559   \n",
              "40604    71873370      1   648559   \n",
              "40605   201690705      2   648559   \n",
              "40606    78857201          648559   \n",
              "\n",
              "                                             product_url  \n",
              "0      https://www.tokopedia.com/shakaonline87/staple...  \n",
              "1      https://www.tokopedia.com/juraganperkakas/stap...  \n",
              "2      https://www.tokopedia.com/juraganperkakas/stap...  \n",
              "3      https://www.tokopedia.com/kamarmesin/alat-stap...  \n",
              "4      https://www.tokopedia.com/mitrapersada/isi-ref...  \n",
              "...                                                  ...  \n",
              "40602  https://www.tokopedia.com/pusatdermawand/miner...  \n",
              "40603  https://www.tokopedia.com/pusatdermawand/panci...  \n",
              "40604  https://www.tokopedia.com/pusatdermawand/excid...  \n",
              "40605  https://www.tokopedia.com/pusatdermawand/total...  \n",
              "40606  https://www.tokopedia.com/pusatdermawand/sit-u...  \n",
              "\n",
              "[40607 rows x 9 columns]>"
            ]
          },
          "execution_count": 26,
          "metadata": {},
          "output_type": "execute_result"
        }
      ],
      "source": [
        "rt=dt['rating'].value_counts\n",
        "prdk=dt['product_id'].value_counts\n",
        "shop=dt['shop_id'].value_counts\n",
        "\n",
        "print(' Jumlah Rating:',rt)\n",
        "print(' Jumlah Product:',rt)\n",
        "print(' Jumlah User ID:',rt)\n",
        "dt.value_counts"
      ]
    },
    {
      "cell_type": "code",
      "execution_count": null,
      "metadata": {
        "id": "AQU8pOjCZvcp"
      },
      "outputs": [],
      "source": [
        ""
      ]
    },
    {
      "cell_type": "code",
      "execution_count": null,
      "metadata": {
        "id": "h0A8NplzZvcq",
        "outputId": "895b32e2-c131-4de4-ac82-e413bc7b1f29"
      },
      "outputs": [
        {
          "name": "stderr",
          "output_type": "stream",
          "text": [
            "C:\\Users\\USER\\Anaconda3\\lib\\site-packages\\seaborn\\_decorators.py:43: FutureWarning: Pass the following variable as a keyword arg: x. From version 0.12, the only valid positional argument will be `data`, and passing other arguments without an explicit keyword will result in an error or misinterpretation.\n",
            "  FutureWarning\n"
          ]
        },
        {
          "data": {
            "text/plain": [
              "<AxesSubplot:xlabel='rating', ylabel='count'>"
            ]
          },
          "execution_count": 28,
          "metadata": {},
          "output_type": "execute_result"
        },
        {
          "data": {
            "image/png": "[encoded data removed]",
            "text/plain": [
              "<Figure size 432x288 with 1 Axes>"
            ]
          },
          "metadata": {
            "needs_background": "light"
          },
          "output_type": "display_data"
        }
      ],
      "source": [
        "sn.countplot(dt['rating'])"
      ]
    },
    {
      "cell_type": "code",
      "execution_count": null,
      "metadata": {
        "id": "wqwUXkulZvcq",
        "outputId": "68457c20-88a0-4779-b2ab-d538f54c1c77"
      },
      "outputs": [
        {
          "name": "stderr",
          "output_type": "stream",
          "text": [
            "C:\\Users\\USER\\Anaconda3\\lib\\site-packages\\seaborn\\_decorators.py:43: FutureWarning: Pass the following variable as a keyword arg: x. From version 0.12, the only valid positional argument will be `data`, and passing other arguments without an explicit keyword will result in an error or misinterpretation.\n",
            "  FutureWarning\n"
          ]
        },
        {
          "data": {
            "text/plain": [
              "<AxesSubplot:xlabel='category', ylabel='count'>"
            ]
          },
          "execution_count": 30,
          "metadata": {},
          "output_type": "execute_result"
        },
        {
          "data": {
            "image/png": "[encoded data removed]",
            "text/plain": [
              "<Figure size 432x288 with 1 Axes>"
            ]
          },
          "metadata": {
            "needs_background": "light"
          },
          "output_type": "display_data"
        }
      ],
      "source": [
        "sn.countplot(dt['category'])"
      ]
    },
    {
      "cell_type": "code",
      "execution_count": null,
      "metadata": {
        "id": "ErX2JMHnZvcr",
        "outputId": "2d4b8e38-f41f-4fc6-e584-57957e1d75bf"
      },
      "outputs": [
        {
          "name": "stderr",
          "output_type": "stream",
          "text": [
            "C:\\Users\\USER\\Anaconda3\\lib\\site-packages\\seaborn\\_decorators.py:43: FutureWarning: Pass the following variables as keyword args: x, y. From version 0.12, the only valid positional argument will be `data`, and passing other arguments without an explicit keyword will result in an error or misinterpretation.\n",
            "  FutureWarning\n"
          ]
        },
        {
          "data": {
            "text/plain": [
              "<AxesSubplot:xlabel='category', ylabel='sold'>"
            ]
          },
          "execution_count": 47,
          "metadata": {},
          "output_type": "execute_result"
        },
        {
          "data": {
            "image/png": "[encoded data removed]",
            "text/plain": [
              "<Figure size 432x288 with 1 Axes>"
            ]
          },
          "metadata": {
            "needs_background": "light"
          },
          "output_type": "display_data"
        }
      ],
      "source": [
        "sn.barplot(dt['category'], dt['sold'])"
      ]
    },
    {
      "cell_type": "markdown",
      "metadata": {
        "id": "KnKQk1x8Zvcr"
      },
      "source": [
        "### 2. Distance based Filtering"
      ]
    },
    {
      "cell_type": "code",
      "execution_count": null,
      "metadata": {
        "id": "ZxIkYfPIZvcs",
        "outputId": "b74b83e6-e5b0-4c97-eb25-d5e3ced8b284"
      },
      "outputs": [
        {
          "name": "stdout",
          "output_type": "stream",
          "text": [
            "Collecting spacy\n",
            "  Downloading spacy-3.2.1-cp37-cp37m-win_amd64.whl (12.0 MB)\n",
            "Collecting spacy-legacy<3.1.0,>=3.0.8\n",
            "  Downloading spacy_legacy-3.0.8-py2.py3-none-any.whl (14 kB)\n",
            "Requirement already satisfied: jinja2 in c:\\users\\user\\appdata\\roaming\\python\\python37\\site-packages (from spacy) (3.0.1)\n",
            "Collecting spacy-loggers<2.0.0,>=1.0.0\n",
            "  Downloading spacy_loggers-1.0.1-py3-none-any.whl (7.0 kB)\n",
            "Collecting langcodes<4.0.0,>=3.2.0\n",
            "  Downloading langcodes-3.3.0-py3-none-any.whl (181 kB)\n",
            "Requirement already satisfied: numpy>=1.15.0 in c:\\users\\user\\appdata\\roaming\\python\\python37\\site-packages (from spacy) (1.19.1)\n",
            "Collecting catalogue<2.1.0,>=2.0.6\n",
            "  Downloading catalogue-2.0.6-py3-none-any.whl (17 kB)\n",
            "Requirement already satisfied: pydantic!=1.8,!=1.8.1,<1.9.0,>=1.7.4 in c:\\users\\user\\anaconda3\\lib\\site-packages (from spacy) (1.8.2)\n",
            "Collecting wasabi<1.1.0,>=0.8.1\n",
            "  Downloading wasabi-0.9.0-py3-none-any.whl (25 kB)\n",
            "Collecting srsly<3.0.0,>=2.4.1\n",
            "  Downloading srsly-2.4.2-cp37-cp37m-win_amd64.whl (450 kB)\n",
            "Collecting thinc<8.1.0,>=8.0.12\n",
            "  Downloading thinc-8.0.13-cp37-cp37m-win_amd64.whl (1.0 MB)\n",
            "Collecting typing-extensions<4.0.0.0,>=3.7.4\n",
            "  Using cached typing_extensions-3.10.0.2-py3-none-any.whl (26 kB)\n",
            "Requirement already satisfied: packaging>=20.0 in c:\\users\\user\\anaconda3\\lib\\site-packages (from spacy) (21.0)\n",
            "Collecting murmurhash<1.1.0,>=0.28.0\n",
            "  Downloading murmurhash-1.0.6-cp37-cp37m-win_amd64.whl (20 kB)\n",
            "Collecting preshed<3.1.0,>=3.0.2\n",
            "  Downloading preshed-3.0.6-cp37-cp37m-win_amd64.whl (108 kB)\n",
            "Requirement already satisfied: requests<3.0.0,>=2.13.0 in c:\\users\\user\\anaconda3\\lib\\site-packages (from spacy) (2.26.0)\n",
            "Collecting cymem<2.1.0,>=2.0.2\n",
            "  Downloading cymem-2.0.6-cp37-cp37m-win_amd64.whl (35 kB)\n",
            "Requirement already satisfied: setuptools in c:\\users\\user\\anaconda3\\lib\\site-packages (from spacy) (58.3.0)\n",
            "Requirement already satisfied: tqdm<5.0.0,>=4.38.0 in c:\\users\\user\\anaconda3\\lib\\site-packages (from spacy) (4.56.0)\n",
            "Collecting pathy>=0.3.5\n",
            "  Downloading pathy-0.6.1-py3-none-any.whl (42 kB)\n",
            "Collecting typer<0.5.0,>=0.3.0\n",
            "  Downloading typer-0.4.0-py3-none-any.whl (27 kB)\n",
            "Collecting blis<0.8.0,>=0.4.0\n",
            "  Downloading blis-0.7.5-cp37-cp37m-win_amd64.whl (6.5 MB)\n",
            "Requirement already satisfied: zipp>=0.5 in c:\\users\\user\\appdata\\roaming\\python\\python37\\site-packages (from catalogue<2.1.0,>=2.0.6->spacy) (3.6.0)\n",
            "Requirement already satisfied: pyparsing>=2.0.2 in c:\\users\\user\\anaconda3\\lib\\site-packages (from packaging>=20.0->spacy) (2.4.7)\n",
            "Collecting smart-open<6.0.0,>=5.0.0\n",
            "  Downloading smart_open-5.2.1-py3-none-any.whl (58 kB)\n",
            "Requirement already satisfied: certifi>=2017.4.17 in c:\\users\\user\\appdata\\roaming\\python\\python37\\site-packages (from requests<3.0.0,>=2.13.0->spacy) (2021.10.8)\n",
            "Requirement already satisfied: charset-normalizer~=2.0.0 in c:\\users\\user\\anaconda3\\lib\\site-packages (from requests<3.0.0,>=2.13.0->spacy) (2.0.7)\n",
            "Requirement already satisfied: urllib3<1.27,>=1.21.1 in c:\\users\\user\\anaconda3\\lib\\site-packages (from requests<3.0.0,>=2.13.0->spacy) (1.26.7)\n",
            "Requirement already satisfied: idna<4,>=2.5 in c:\\users\\user\\appdata\\roaming\\python\\python37\\site-packages (from requests<3.0.0,>=2.13.0->spacy) (3.3)\n",
            "Requirement already satisfied: click<9.0.0,>=7.1.1 in c:\\users\\user\\appdata\\roaming\\python\\python37\\site-packages (from typer<0.5.0,>=0.3.0->spacy) (7.1.2)\n",
            "Requirement already satisfied: MarkupSafe>=2.0 in c:\\users\\user\\appdata\\roaming\\python\\python37\\site-packages (from jinja2->spacy) (2.0.1)\n",
            "Installing collected packages: typing-extensions, murmurhash, cymem, catalogue, wasabi, typer, srsly, smart-open, preshed, blis, thinc, spacy-loggers, spacy-legacy, pathy, langcodes, spacy\n",
            "  Attempting uninstall: typing-extensions\n",
            "    Found existing installation: typing-extensions 4.0.0\n",
            "    Uninstalling typing-extensions-4.0.0:\n",
            "      Successfully uninstalled typing-extensions-4.0.0\n",
            "Successfully installed blis-0.7.5 catalogue-2.0.6 cymem-2.0.6 langcodes-3.3.0 murmurhash-1.0.6 pathy-0.6.1 preshed-3.0.6 smart-open-5.2.1 spacy-3.2.1 spacy-legacy-3.0.8 spacy-loggers-1.0.1 srsly-2.4.2 thinc-8.0.13 typer-0.4.0 typing-extensions-3.10.0.2 wasabi-0.9.0\n"
          ]
        },
        {
          "name": "stderr",
          "output_type": "stream",
          "text": [
            "WARNING: pip is being invoked by an old script wrapper. This will fail in a future version of pip.\n",
            "Please see https://github.com/pypa/pip/issues/5599 for advice on fixing the underlying issue.\n",
            "To avoid this problem you can invoke Python with '-m pip' instead of running pip directly.\n",
            "WARNING: Ignoring invalid distribution -atplotlib (c:\\users\\user\\anaconda3\\lib\\site-packages)\n",
            "WARNING: Ignoring invalid distribution -atplotlib (c:\\users\\user\\anaconda3\\lib\\site-packages)\n",
            "WARNING: Ignoring invalid distribution -atplotlib (c:\\users\\user\\anaconda3\\lib\\site-packages)\n",
            "WARNING: Ignoring invalid distribution -atplotlib (c:\\users\\user\\anaconda3\\lib\\site-packages)\n",
            "WARNING: Ignoring invalid distribution -atplotlib (c:\\users\\user\\anaconda3\\lib\\site-packages)\n",
            "WARNING: Ignoring invalid distribution -atplotlib (c:\\users\\user\\anaconda3\\lib\\site-packages)\n",
            "WARNING: Ignoring invalid distribution -atplotlib (c:\\users\\user\\anaconda3\\lib\\site-packages)\n",
            "WARNING: Ignoring invalid distribution -atplotlib (c:\\users\\user\\anaconda3\\lib\\site-packages)\n",
            "WARNING: Ignoring invalid distribution -atplotlib (c:\\users\\user\\anaconda3\\lib\\site-packages)\n",
            "WARNING: Ignoring invalid distribution -atplotlib (c:\\users\\user\\anaconda3\\lib\\site-packages)\n",
            "WARNING: Ignoring invalid distribution -atplotlib (c:\\users\\user\\anaconda3\\lib\\site-packages)\n",
            "WARNING: Ignoring invalid distribution -atplotlib (c:\\users\\user\\anaconda3\\lib\\site-packages)\n",
            "WARNING: Ignoring invalid distribution -atplotlib (c:\\users\\user\\anaconda3\\lib\\site-packages)\n",
            "WARNING: Ignoring invalid distribution -atplotlib (c:\\users\\user\\anaconda3\\lib\\site-packages)\n",
            "WARNING: Ignoring invalid distribution -atplotlib (c:\\users\\user\\anaconda3\\lib\\site-packages)\n",
            "WARNING: Ignoring invalid distribution -atplotlib (c:\\users\\user\\anaconda3\\lib\\site-packages)\n",
            "WARNING: Ignoring invalid distribution -atplotlib (c:\\users\\user\\anaconda3\\lib\\site-packages)\n",
            "WARNING: Ignoring invalid distribution -atplotlib (c:\\users\\user\\anaconda3\\lib\\site-packages)\n",
            "WARNING: Ignoring invalid distribution -atplotlib (c:\\users\\user\\anaconda3\\lib\\site-packages)\n",
            "ERROR: pip's dependency resolver does not currently take into account all the packages that are installed. This behaviour is the source of the following dependency conflicts.\n",
            "tensorflow 2.6.0 requires numpy~=1.19.2, but you have numpy 1.19.1 which is incompatible.\n",
            "tensorflow 2.6.0 requires six~=1.15.0, but you have six 1.16.0 which is incompatible.\n",
            "tensorflow 2.6.0 requires typing-extensions~=3.7.4, but you have typing-extensions 3.10.0.2 which is incompatible.\n",
            "WARNING: Ignoring invalid distribution -atplotlib (c:\\users\\user\\anaconda3\\lib\\site-packages)\n"
          ]
        }
      ],
      "source": [
        "!pip install spacy"
      ]
    },
    {
      "cell_type": "code",
      "execution_count": null,
      "metadata": {
        "id": "qVLnIQTJZvcs"
      },
      "outputs": [],
      "source": [
        "import spacy"
      ]
    },
    {
      "cell_type": "code",
      "execution_count": null,
      "metadata": {
        "id": "UzBCEDfcZvcs",
        "outputId": "c26b08d7-5255-490b-f41d-871ceaeca2a3"
      },
      "outputs": [
        {
          "name": "stdout",
          "output_type": "stream",
          "text": [
            "Collecting en-core-web-sm==3.2.0\n",
            "  Downloading https://github.com/explosion/spacy-models/releases/download/en_core_web_sm-3.2.0/en_core_web_sm-3.2.0-py3-none-any.whl (13.9 MB)\n",
            "Requirement already satisfied: spacy<3.3.0,>=3.2.0 in c:\\users\\user\\anaconda3\\lib\\site-packages (from en-core-web-sm==3.2.0) (3.2.1)\n",
            "Requirement already satisfied: typer<0.5.0,>=0.3.0 in c:\\users\\user\\anaconda3\\lib\\site-packages (from spacy<3.3.0,>=3.2.0->en-core-web-sm==3.2.0) (0.4.0)\n",
            "Requirement already satisfied: catalogue<2.1.0,>=2.0.6 in c:\\users\\user\\anaconda3\\lib\\site-packages (from spacy<3.3.0,>=3.2.0->en-core-web-sm==3.2.0) (2.0.6)\n",
            "Requirement already satisfied: murmurhash<1.1.0,>=0.28.0 in c:\\users\\user\\anaconda3\\lib\\site-packages (from spacy<3.3.0,>=3.2.0->en-core-web-sm==3.2.0) (1.0.6)\n",
            "Requirement already satisfied: pydantic!=1.8,!=1.8.1,<1.9.0,>=1.7.4 in c:\\users\\user\\anaconda3\\lib\\site-packages (from spacy<3.3.0,>=3.2.0->en-core-web-sm==3.2.0) (1.8.2)\n",
            "Requirement already satisfied: spacy-loggers<2.0.0,>=1.0.0 in c:\\users\\user\\anaconda3\\lib\\site-packages (from spacy<3.3.0,>=3.2.0->en-core-web-sm==3.2.0) (1.0.1)\n",
            "Requirement already satisfied: srsly<3.0.0,>=2.4.1 in c:\\users\\user\\anaconda3\\lib\\site-packages (from spacy<3.3.0,>=3.2.0->en-core-web-sm==3.2.0) (2.4.2)\n",
            "Requirement already satisfied: requests<3.0.0,>=2.13.0 in c:\\users\\user\\anaconda3\\lib\\site-packages (from spacy<3.3.0,>=3.2.0->en-core-web-sm==3.2.0) (2.26.0)\n",
            "Requirement already satisfied: preshed<3.1.0,>=3.0.2 in c:\\users\\user\\anaconda3\\lib\\site-packages (from spacy<3.3.0,>=3.2.0->en-core-web-sm==3.2.0) (3.0.6)\n",
            "Requirement already satisfied: tqdm<5.0.0,>=4.38.0 in c:\\users\\user\\anaconda3\\lib\\site-packages (from spacy<3.3.0,>=3.2.0->en-core-web-sm==3.2.0) (4.56.0)\n",
            "Requirement already satisfied: typing-extensions<4.0.0.0,>=3.7.4 in c:\\users\\user\\anaconda3\\lib\\site-packages (from spacy<3.3.0,>=3.2.0->en-core-web-sm==3.2.0) (3.10.0.2)\n",
            "Requirement already satisfied: setuptools in c:\\users\\user\\anaconda3\\lib\\site-packages (from spacy<3.3.0,>=3.2.0->en-core-web-sm==3.2.0) (58.3.0)\n",
            "Requirement already satisfied: numpy>=1.15.0 in c:\\users\\user\\appdata\\roaming\\python\\python37\\site-packages (from spacy<3.3.0,>=3.2.0->en-core-web-sm==3.2.0) (1.19.1)\n",
            "Requirement already satisfied: pathy>=0.3.5 in c:\\users\\user\\anaconda3\\lib\\site-packages (from spacy<3.3.0,>=3.2.0->en-core-web-sm==3.2.0) (0.6.1)\n",
            "Requirement already satisfied: wasabi<1.1.0,>=0.8.1 in c:\\users\\user\\anaconda3\\lib\\site-packages (from spacy<3.3.0,>=3.2.0->en-core-web-sm==3.2.0) (0.9.0)\n",
            "Requirement already satisfied: langcodes<4.0.0,>=3.2.0 in c:\\users\\user\\anaconda3\\lib\\site-packages (from spacy<3.3.0,>=3.2.0->en-core-web-sm==3.2.0) (3.3.0)\n",
            "Requirement already satisfied: spacy-legacy<3.1.0,>=3.0.8 in c:\\users\\user\\anaconda3\\lib\\site-packages (from spacy<3.3.0,>=3.2.0->en-core-web-sm==3.2.0) (3.0.8)\n",
            "Requirement already satisfied: blis<0.8.0,>=0.4.0 in c:\\users\\user\\anaconda3\\lib\\site-packages (from spacy<3.3.0,>=3.2.0->en-core-web-sm==3.2.0) (0.7.5)\n",
            "Requirement already satisfied: packaging>=20.0 in c:\\users\\user\\anaconda3\\lib\\site-packages (from spacy<3.3.0,>=3.2.0->en-core-web-sm==3.2.0) (21.0)\n",
            "Requirement already satisfied: cymem<2.1.0,>=2.0.2 in c:\\users\\user\\anaconda3\\lib\\site-packages (from spacy<3.3.0,>=3.2.0->en-core-web-sm==3.2.0) (2.0.6)\n",
            "Requirement already satisfied: thinc<8.1.0,>=8.0.12 in c:\\users\\user\\anaconda3\\lib\\site-packages (from spacy<3.3.0,>=3.2.0->en-core-web-sm==3.2.0) (8.0.13)\n",
            "Requirement already satisfied: jinja2 in c:\\users\\user\\appdata\\roaming\\python\\python37\\site-packages (from spacy<3.3.0,>=3.2.0->en-core-web-sm==3.2.0) (3.0.1)\n",
            "Requirement already satisfied: zipp>=0.5 in c:\\users\\user\\appdata\\roaming\\python\\python37\\site-packages (from catalogue<2.1.0,>=2.0.6->spacy<3.3.0,>=3.2.0->en-core-web-sm==3.2.0) (3.6.0)\n",
            "Requirement already satisfied: pyparsing>=2.0.2 in c:\\users\\user\\anaconda3\\lib\\site-packages (from packaging>=20.0->spacy<3.3.0,>=3.2.0->en-core-web-sm==3.2.0) (2.4.7)\n",
            "Requirement already satisfied: smart-open<6.0.0,>=5.0.0 in c:\\users\\user\\anaconda3\\lib\\site-packages (from pathy>=0.3.5->spacy<3.3.0,>=3.2.0->en-core-web-sm==3.2.0) (5.2.1)\n",
            "Requirement already satisfied: idna<4,>=2.5 in c:\\users\\user\\appdata\\roaming\\python\\python37\\site-packages (from requests<3.0.0,>=2.13.0->spacy<3.3.0,>=3.2.0->en-core-web-sm==3.2.0) (3.3)\n",
            "Requirement already satisfied: charset-normalizer~=2.0.0 in c:\\users\\user\\anaconda3\\lib\\site-packages (from requests<3.0.0,>=2.13.0->spacy<3.3.0,>=3.2.0->en-core-web-sm==3.2.0) (2.0.7)\n",
            "Requirement already satisfied: urllib3<1.27,>=1.21.1 in c:\\users\\user\\anaconda3\\lib\\site-packages (from requests<3.0.0,>=2.13.0->spacy<3.3.0,>=3.2.0->en-core-web-sm==3.2.0) (1.26.7)\n",
            "Requirement already satisfied: certifi>=2017.4.17 in c:\\users\\user\\appdata\\roaming\\python\\python37\\site-packages (from requests<3.0.0,>=2.13.0->spacy<3.3.0,>=3.2.0->en-core-web-sm==3.2.0) (2021.10.8)\n",
            "Requirement already satisfied: click<9.0.0,>=7.1.1 in c:\\users\\user\\appdata\\roaming\\python\\python37\\site-packages (from typer<0.5.0,>=0.3.0->spacy<3.3.0,>=3.2.0->en-core-web-sm==3.2.0) (7.1.2)\n",
            "Requirement already satisfied: MarkupSafe>=2.0 in c:\\users\\user\\appdata\\roaming\\python\\python37\\site-packages (from jinja2->spacy<3.3.0,>=3.2.0->en-core-web-sm==3.2.0) (2.0.1)\n",
            "Installing collected packages: en-core-web-sm\n",
            "Successfully installed en-core-web-sm-3.2.0\n",
            "[!] As of spaCy v3.0, shortcuts like 'en' are deprecated. Please use the full\n",
            "pipeline package name 'en_core_web_sm' instead.\n",
            "[+] Download and installation successful\n",
            "You can now load the package via spacy.load('en_core_web_sm')\n"
          ]
        },
        {
          "name": "stderr",
          "output_type": "stream",
          "text": [
            "WARNING: Ignoring invalid distribution -atplotlib (c:\\users\\user\\anaconda3\\lib\\site-packages)\n",
            "WARNING: Ignoring invalid distribution -atplotlib (c:\\users\\user\\anaconda3\\lib\\site-packages)\n",
            "WARNING: Ignoring invalid distribution -atplotlib (c:\\users\\user\\anaconda3\\lib\\site-packages)\n",
            "WARNING: Ignoring invalid distribution -atplotlib (c:\\users\\user\\anaconda3\\lib\\site-packages)\n",
            "WARNING: Ignoring invalid distribution -atplotlib (c:\\users\\user\\anaconda3\\lib\\site-packages)\n"
          ]
        }
      ],
      "source": [
        "! python -m spacy download en"
      ]
    },
    {
      "cell_type": "code",
      "execution_count": null,
      "metadata": {
        "id": "kSe9dqIfZvct"
      },
      "outputs": [],
      "source": [
        "import spacy\n",
        "nlp = spacy.load('en_core_web_sm')"
      ]
    },
    {
      "cell_type": "code",
      "execution_count": null,
      "metadata": {
        "id": "FTai2BUXZvct"
      },
      "outputs": [],
      "source": [
        "title0 = nlp(dt.product_name[0])\n",
        "title1 = nlp(dt.product_name[1])"
      ]
    },
    {
      "cell_type": "code",
      "execution_count": null,
      "metadata": {
        "id": "4um85XgFZvcu",
        "outputId": "ceffe636-95ce-4447-afa4-f004f7e2143f"
      },
      "outputs": [
        {
          "data": {
            "text/plain": [
              "(Staples Dekorasi Staples Kayu + Refill 8mm - Staples Gun 4-8 mm C Mart,\n",
              " STAPLE GUN ATS 3 WAY TACKER - STAPLES JOK TEMBAK HEKTER 022708)"
            ]
          },
          "execution_count": 16,
          "metadata": {},
          "output_type": "execute_result"
        }
      ],
      "source": [
        "title0, title1"
      ]
    },
    {
      "cell_type": "code",
      "execution_count": null,
      "metadata": {
        "id": "Rqdt3kziZvcu",
        "outputId": "b3a91322-0d93-41f9-c71c-9d3c30ead58f"
      },
      "outputs": [
        {
          "data": {
            "text/plain": [
              "(96, 96)"
            ]
          },
          "execution_count": 18,
          "metadata": {},
          "output_type": "execute_result"
        }
      ],
      "source": [
        "len(title0.vector), len(title1.vector)"
      ]
    },
    {
      "cell_type": "code",
      "execution_count": null,
      "metadata": {
        "id": "_UbOySmxZvcv",
        "outputId": "6ba06246-fa88-4815-a93c-d7a1587eaf26"
      },
      "outputs": [
        {
          "data": {
            "text/plain": [
              "id              0\n",
              "rating          0\n",
              "product_name    0\n",
              "product_id      0\n",
              "shop_id         0\n",
              "dtype: int64"
            ]
          },
          "execution_count": 103,
          "metadata": {},
          "output_type": "execute_result"
        }
      ],
      "source": [
        "dt.isna().sum()"
      ]
    },
    {
      "cell_type": "code",
      "execution_count": null,
      "metadata": {
        "id": "R0XAVyL_Zvcv",
        "outputId": "2e06d86d-2f1c-4e79-8abe-b2e036a0a7a1"
      },
      "outputs": [
        {
          "data": {
            "text/plain": [
              "0"
            ]
          },
          "execution_count": 104,
          "metadata": {},
          "output_type": "execute_result"
        }
      ],
      "source": [
        "dt.duplicated().sum()"
      ]
    },
    {
      "cell_type": "code",
      "execution_count": null,
      "metadata": {
        "id": "NTzCSWB2Zvcv",
        "outputId": "123d76a3-3546-4049-80c7-4aae151bff8b"
      },
      "outputs": [
        {
          "data": {
            "text/plain": [
              "(40607, 4)"
            ]
          },
          "execution_count": 94,
          "metadata": {},
          "output_type": "execute_result"
        }
      ],
      "source": [
        "dt.shape"
      ]
    },
    {
      "cell_type": "code",
      "execution_count": null,
      "metadata": {
        "id": "WdH4a1dCZvcv",
        "outputId": "aec96f9b-7540-4b86-fe3a-6d8c6b75d5b2"
      },
      "outputs": [
        {
          "data": {
            "text/html": [
              "<div>\n",
              "<style scoped>\n",
              "    .dataframe tbody tr th:only-of-type {\n",
              "        vertical-align: middle;\n",
              "    }\n",
              "\n",
              "    .dataframe tbody tr th {\n",
              "        vertical-align: top;\n",
              "    }\n",
              "\n",
              "    .dataframe thead th {\n",
              "        text-align: right;\n",
              "    }\n",
              "</style>\n",
              "<table border=\"1\" class=\"dataframe\">\n",
              "  <thead>\n",
              "    <tr style=\"text-align: right;\">\n",
              "      <th></th>\n",
              "      <th>id</th>\n",
              "      <th>rating</th>\n",
              "      <th>product_name</th>\n",
              "      <th>product_id</th>\n",
              "      <th>shop_id</th>\n",
              "    </tr>\n",
              "  </thead>\n",
              "  <tbody>\n",
              "    <tr>\n",
              "      <th>0</th>\n",
              "      <td>1</td>\n",
              "      <td>5</td>\n",
              "      <td>Staples Dekorasi Staples Kayu + Refill 8mm - S...</td>\n",
              "      <td>418660637</td>\n",
              "      <td>1740837</td>\n",
              "    </tr>\n",
              "    <tr>\n",
              "      <th>1</th>\n",
              "      <td>2</td>\n",
              "      <td>5</td>\n",
              "      <td>STAPLE GUN ATS 3 WAY TACKER - STAPLES JOK TEMB...</td>\n",
              "      <td>416032545</td>\n",
              "      <td>1477109</td>\n",
              "    </tr>\n",
              "    <tr>\n",
              "      <th>2</th>\n",
              "      <td>3</td>\n",
              "      <td>5</td>\n",
              "      <td>STAPLE GUN ATS 3 WAY TACKER - STAPLES JOK TEMB...</td>\n",
              "      <td>416032545</td>\n",
              "      <td>1477109</td>\n",
              "    </tr>\n",
              "    <tr>\n",
              "      <th>3</th>\n",
              "      <td>4</td>\n",
              "      <td>5</td>\n",
              "      <td>ALAT STAPLES TEMBAK &amp;#40;AIR NAILER GUN&amp;#41; O...</td>\n",
              "      <td>102279869</td>\n",
              "      <td>771395</td>\n",
              "    </tr>\n",
              "    <tr>\n",
              "      <th>4</th>\n",
              "      <td>5</td>\n",
              "      <td>5</td>\n",
              "      <td>Isi Refill Staples Jok Kulit Motor / Staple Gu...</td>\n",
              "      <td>190679689</td>\n",
              "      <td>969999</td>\n",
              "    </tr>\n",
              "  </tbody>\n",
              "</table>\n",
              "</div>"
            ],
            "text/plain": [
              "   id  rating                                       product_name  product_id  \\\n",
              "0   1       5  Staples Dekorasi Staples Kayu + Refill 8mm - S...   418660637   \n",
              "1   2       5  STAPLE GUN ATS 3 WAY TACKER - STAPLES JOK TEMB...   416032545   \n",
              "2   3       5  STAPLE GUN ATS 3 WAY TACKER - STAPLES JOK TEMB...   416032545   \n",
              "3   4       5  ALAT STAPLES TEMBAK &#40;AIR NAILER GUN&#41; O...   102279869   \n",
              "4   5       5  Isi Refill Staples Jok Kulit Motor / Staple Gu...   190679689   \n",
              "\n",
              "   shop_id  \n",
              "0  1740837  \n",
              "1  1477109  \n",
              "2  1477109  \n",
              "3   771395  \n",
              "4   969999  "
            ]
          },
          "execution_count": 105,
          "metadata": {},
          "output_type": "execute_result"
        }
      ],
      "source": [
        "dt.head()"
      ]
    },
    {
      "cell_type": "code",
      "execution_count": null,
      "metadata": {
        "id": "vHfTtUL6Zvcw",
        "outputId": "0f01b9eb-8f09-4e0e-bd4d-bad736e2e521"
      },
      "outputs": [
        {
          "name": "stderr",
          "output_type": "stream",
          "text": [
            "C:\\Users\\USER\\Anaconda3\\lib\\site-packages\\ipykernel_launcher.py:1: UserWarning: [W007] The model you're using has no word vectors loaded, so the result of the Doc.similarity method will be based on the tagger, parser and NER, which may not give useful similarity judgements. This may happen if you're using one of the small models, e.g. `en_core_web_sm`, which don't ship with word vectors and only use context-sensitive tensors. You can always add your own word vectors, or use one of the larger models instead if available.\n",
            "  \"\"\"Entry point for launching an IPython kernel.\n"
          ]
        },
        {
          "data": {
            "text/plain": [
              "0.7699190053881906"
            ]
          },
          "execution_count": 19,
          "metadata": {},
          "output_type": "execute_result"
        }
      ],
      "source": [
        "title0.similarity(title1)"
      ]
    },
    {
      "cell_type": "code",
      "execution_count": null,
      "metadata": {
        "id": "8Mig_j0XZvcw"
      },
      "outputs": [],
      "source": [
        "story_similarity = []"
      ]
    },
    {
      "cell_type": "code",
      "execution_count": null,
      "metadata": {
        "id": "qEdYRjcFZvcw",
        "outputId": "0618982e-0897-4ab9-a42b-d7d83e0f0c4b"
      },
      "outputs": [
        {
          "name": "stderr",
          "output_type": "stream",
          "text": [
            "C:\\Users\\USER\\Anaconda3\\lib\\site-packages\\ipykernel_launcher.py:3: UserWarning: [W007] The model you're using has no word vectors loaded, so the result of the Doc.similarity method will be based on the tagger, parser and NER, which may not give useful similarity judgements. This may happen if you're using one of the small models, e.g. `en_core_web_sm`, which don't ship with word vectors and only use context-sensitive tensors. You can always add your own word vectors, or use one of the larger models instead if available.\n",
            "  This is separate from the ipykernel package so we can avoid doing imports until\n"
          ]
        },
        {
          "name": "stdout",
          "output_type": "stream",
          "text": [
            "Wall time: 3min\n"
          ]
        }
      ],
      "source": [
        "%%time \n",
        "\n",
        "for story_row in dt.product_name[:100]:\n",
        "    for story_column in dt.product_name[:100]:\n",
        "        story_sim = nlp(story_row).similarity(nlp(story_column))\n",
        "        story_similarity.append([story_row, story_column, story_sim])"
      ]
    },
    {
      "cell_type": "code",
      "execution_count": null,
      "metadata": {
        "id": "0IkgpVFDZvcw"
      },
      "outputs": [],
      "source": [
        "story_similarity=pd.DataFrame(story_similarity, columns=[\"story1\",\"story2\",\"similarity\"]).append"
      ]
    },
    {
      "cell_type": "code",
      "execution_count": null,
      "metadata": {
        "id": "hCfRl4qkZvcx",
        "outputId": "91efca37-63ec-4e29-ce9b-2c9a100c248b"
      },
      "outputs": [
        {
          "data": {
            "text/html": [
              "<div>\n",
              "<style scoped>\n",
              "    .dataframe tbody tr th:only-of-type {\n",
              "        vertical-align: middle;\n",
              "    }\n",
              "\n",
              "    .dataframe tbody tr th {\n",
              "        vertical-align: top;\n",
              "    }\n",
              "\n",
              "    .dataframe thead th {\n",
              "        text-align: right;\n",
              "    }\n",
              "</style>\n",
              "<table border=\"1\" class=\"dataframe\">\n",
              "  <thead>\n",
              "    <tr style=\"text-align: right;\">\n",
              "      <th></th>\n",
              "      <th>index</th>\n",
              "      <th>story1</th>\n",
              "      <th>story2</th>\n",
              "      <th>similarity</th>\n",
              "    </tr>\n",
              "  </thead>\n",
              "  <tbody>\n",
              "    <tr>\n",
              "      <th>0</th>\n",
              "      <td>0</td>\n",
              "      <td>Staples Dekorasi Staples Kayu + Refill 8mm - S...</td>\n",
              "      <td>Staples Dekorasi Staples Kayu + Refill 8mm - S...</td>\n",
              "      <td>1.000000</td>\n",
              "    </tr>\n",
              "    <tr>\n",
              "      <th>1</th>\n",
              "      <td>1</td>\n",
              "      <td>Staples Dekorasi Staples Kayu + Refill 8mm - S...</td>\n",
              "      <td>STAPLE GUN ATS 3 WAY TACKER - STAPLES JOK TEMB...</td>\n",
              "      <td>0.769919</td>\n",
              "    </tr>\n",
              "    <tr>\n",
              "      <th>2</th>\n",
              "      <td>2</td>\n",
              "      <td>Staples Dekorasi Staples Kayu + Refill 8mm - S...</td>\n",
              "      <td>STAPLE GUN ATS 3 WAY TACKER - STAPLES JOK TEMB...</td>\n",
              "      <td>0.769919</td>\n",
              "    </tr>\n",
              "    <tr>\n",
              "      <th>3</th>\n",
              "      <td>3</td>\n",
              "      <td>Staples Dekorasi Staples Kayu + Refill 8mm - S...</td>\n",
              "      <td>ALAT STAPLES TEMBAK &amp;#40;AIR NAILER GUN&amp;#41; O...</td>\n",
              "      <td>0.674645</td>\n",
              "    </tr>\n",
              "    <tr>\n",
              "      <th>4</th>\n",
              "      <td>4</td>\n",
              "      <td>Staples Dekorasi Staples Kayu + Refill 8mm - S...</td>\n",
              "      <td>Isi Refill Staples Jok Kulit Motor / Staple Gu...</td>\n",
              "      <td>0.857041</td>\n",
              "    </tr>\n",
              "    <tr>\n",
              "      <th>...</th>\n",
              "      <td>...</td>\n",
              "      <td>...</td>\n",
              "      <td>...</td>\n",
              "      <td>...</td>\n",
              "    </tr>\n",
              "    <tr>\n",
              "      <th>9995</th>\n",
              "      <td>9995</td>\n",
              "      <td>Isi Staples Tembak 8 mm best guard</td>\n",
              "      <td>Isi Staples Tembak 8 mm best guard</td>\n",
              "      <td>1.000000</td>\n",
              "    </tr>\n",
              "    <tr>\n",
              "      <th>9996</th>\n",
              "      <td>9996</td>\n",
              "      <td>Isi Staples Tembak 8 mm best guard</td>\n",
              "      <td>Isi Staples Tembak 8 mm best guard</td>\n",
              "      <td>1.000000</td>\n",
              "    </tr>\n",
              "    <tr>\n",
              "      <th>9997</th>\n",
              "      <td>9997</td>\n",
              "      <td>Isi Staples Tembak 8 mm best guard</td>\n",
              "      <td>Isi Staples Tembak 8 mm best guard</td>\n",
              "      <td>1.000000</td>\n",
              "    </tr>\n",
              "    <tr>\n",
              "      <th>9998</th>\n",
              "      <td>9998</td>\n",
              "      <td>Isi Staples Tembak 8 mm best guard</td>\n",
              "      <td>Isi Staples Tembak 8 mm best guard</td>\n",
              "      <td>1.000000</td>\n",
              "    </tr>\n",
              "    <tr>\n",
              "      <th>9999</th>\n",
              "      <td>9999</td>\n",
              "      <td>Isi Staples Tembak 8 mm best guard</td>\n",
              "      <td>Isi Staples Tembak 8 mm best guard</td>\n",
              "      <td>1.000000</td>\n",
              "    </tr>\n",
              "  </tbody>\n",
              "</table>\n",
              "<p>10000 rows × 4 columns</p>\n",
              "</div>"
            ],
            "text/plain": [
              "      index                                             story1  \\\n",
              "0         0  Staples Dekorasi Staples Kayu + Refill 8mm - S...   \n",
              "1         1  Staples Dekorasi Staples Kayu + Refill 8mm - S...   \n",
              "2         2  Staples Dekorasi Staples Kayu + Refill 8mm - S...   \n",
              "3         3  Staples Dekorasi Staples Kayu + Refill 8mm - S...   \n",
              "4         4  Staples Dekorasi Staples Kayu + Refill 8mm - S...   \n",
              "...     ...                                                ...   \n",
              "9995   9995                 Isi Staples Tembak 8 mm best guard   \n",
              "9996   9996                 Isi Staples Tembak 8 mm best guard   \n",
              "9997   9997                 Isi Staples Tembak 8 mm best guard   \n",
              "9998   9998                 Isi Staples Tembak 8 mm best guard   \n",
              "9999   9999                 Isi Staples Tembak 8 mm best guard   \n",
              "\n",
              "                                                 story2  similarity  \n",
              "0     Staples Dekorasi Staples Kayu + Refill 8mm - S...    1.000000  \n",
              "1     STAPLE GUN ATS 3 WAY TACKER - STAPLES JOK TEMB...    0.769919  \n",
              "2     STAPLE GUN ATS 3 WAY TACKER - STAPLES JOK TEMB...    0.769919  \n",
              "3     ALAT STAPLES TEMBAK &#40;AIR NAILER GUN&#41; O...    0.674645  \n",
              "4     Isi Refill Staples Jok Kulit Motor / Staple Gu...    0.857041  \n",
              "...                                                 ...         ...  \n",
              "9995                 Isi Staples Tembak 8 mm best guard    1.000000  \n",
              "9996                 Isi Staples Tembak 8 mm best guard    1.000000  \n",
              "9997                 Isi Staples Tembak 8 mm best guard    1.000000  \n",
              "9998                 Isi Staples Tembak 8 mm best guard    1.000000  \n",
              "9999                 Isi Staples Tembak 8 mm best guard    1.000000  \n",
              "\n",
              "[10000 rows x 4 columns]"
            ]
          },
          "execution_count": 132,
          "metadata": {},
          "output_type": "execute_result"
        }
      ],
      "source": [
        "story_similarity.reset_index()"
      ]
    },
    {
      "cell_type": "code",
      "execution_count": null,
      "metadata": {
        "id": "WO0FWQgOZvcx",
        "outputId": "236b9b77-3789-4748-d5f7-0c8530c0e868"
      },
      "outputs": [
        {
          "data": {
            "text/html": [
              "<div>\n",
              "<style scoped>\n",
              "    .dataframe tbody tr th:only-of-type {\n",
              "        vertical-align: middle;\n",
              "    }\n",
              "\n",
              "    .dataframe tbody tr th {\n",
              "        vertical-align: top;\n",
              "    }\n",
              "\n",
              "    .dataframe thead th {\n",
              "        text-align: right;\n",
              "    }\n",
              "</style>\n",
              "<table border=\"1\" class=\"dataframe\">\n",
              "  <thead>\n",
              "    <tr style=\"text-align: right;\">\n",
              "      <th></th>\n",
              "      <th>story1</th>\n",
              "      <th>story2</th>\n",
              "      <th>similarity</th>\n",
              "    </tr>\n",
              "  </thead>\n",
              "  <tbody>\n",
              "    <tr>\n",
              "      <th>0</th>\n",
              "      <td>Staples Dekorasi Staples Kayu + Refill 8mm - S...</td>\n",
              "      <td>Staples Dekorasi Staples Kayu + Refill 8mm - S...</td>\n",
              "      <td>1.000000</td>\n",
              "    </tr>\n",
              "    <tr>\n",
              "      <th>1</th>\n",
              "      <td>Staples Dekorasi Staples Kayu + Refill 8mm - S...</td>\n",
              "      <td>STAPLE GUN ATS 3 WAY TACKER - STAPLES JOK TEMB...</td>\n",
              "      <td>0.769919</td>\n",
              "    </tr>\n",
              "    <tr>\n",
              "      <th>2</th>\n",
              "      <td>Staples Dekorasi Staples Kayu + Refill 8mm - S...</td>\n",
              "      <td>STAPLE GUN ATS 3 WAY TACKER - STAPLES JOK TEMB...</td>\n",
              "      <td>0.769919</td>\n",
              "    </tr>\n",
              "    <tr>\n",
              "      <th>3</th>\n",
              "      <td>Staples Dekorasi Staples Kayu + Refill 8mm - S...</td>\n",
              "      <td>ALAT STAPLES TEMBAK &amp;#40;AIR NAILER GUN&amp;#41; O...</td>\n",
              "      <td>0.674645</td>\n",
              "    </tr>\n",
              "    <tr>\n",
              "      <th>4</th>\n",
              "      <td>Staples Dekorasi Staples Kayu + Refill 8mm - S...</td>\n",
              "      <td>Isi Refill Staples Jok Kulit Motor / Staple Gu...</td>\n",
              "      <td>0.857041</td>\n",
              "    </tr>\n",
              "    <tr>\n",
              "      <th>5</th>\n",
              "      <td>Staples Dekorasi Staples Kayu + Refill 8mm - S...</td>\n",
              "      <td>Isi Refill Staples Jok Kulit Motor / Staple Gu...</td>\n",
              "      <td>0.857041</td>\n",
              "    </tr>\n",
              "    <tr>\n",
              "      <th>6</th>\n",
              "      <td>Staples Dekorasi Staples Kayu + Refill 8mm - S...</td>\n",
              "      <td>Isi Refill Staples Jok Kulit Motor / Staple Gu...</td>\n",
              "      <td>0.857041</td>\n",
              "    </tr>\n",
              "    <tr>\n",
              "      <th>7</th>\n",
              "      <td>Staples Dekorasi Staples Kayu + Refill 8mm - S...</td>\n",
              "      <td>Isi Refill Staples Jok Kulit Motor / Staple Gu...</td>\n",
              "      <td>0.857041</td>\n",
              "    </tr>\n",
              "    <tr>\n",
              "      <th>8</th>\n",
              "      <td>Staples Dekorasi Staples Kayu + Refill 8mm - S...</td>\n",
              "      <td>refill staples gun tacker manual isi paku temb...</td>\n",
              "      <td>0.661435</td>\n",
              "    </tr>\n",
              "    <tr>\n",
              "      <th>9</th>\n",
              "      <td>Staples Dekorasi Staples Kayu + Refill 8mm - S...</td>\n",
              "      <td>refill staples gun tacker manual isi paku temb...</td>\n",
              "      <td>0.661435</td>\n",
              "    </tr>\n",
              "    <tr>\n",
              "      <th>10</th>\n",
              "      <td>Staples Dekorasi Staples Kayu + Refill 8mm - S...</td>\n",
              "      <td>refill staples gun tacker manual isi paku temb...</td>\n",
              "      <td>0.661435</td>\n",
              "    </tr>\n",
              "    <tr>\n",
              "      <th>11</th>\n",
              "      <td>Staples Dekorasi Staples Kayu + Refill 8mm - S...</td>\n",
              "      <td>refill staples gun tacker manual isi paku temb...</td>\n",
              "      <td>0.661435</td>\n",
              "    </tr>\n",
              "    <tr>\n",
              "      <th>12</th>\n",
              "      <td>Staples Dekorasi Staples Kayu + Refill 8mm - S...</td>\n",
              "      <td>refill staples gun tacker manual isi paku temb...</td>\n",
              "      <td>0.661435</td>\n",
              "    </tr>\n",
              "    <tr>\n",
              "      <th>13</th>\n",
              "      <td>Staples Dekorasi Staples Kayu + Refill 8mm - S...</td>\n",
              "      <td>refill staples gun tacker manual isi paku temb...</td>\n",
              "      <td>0.661435</td>\n",
              "    </tr>\n",
              "    <tr>\n",
              "      <th>14</th>\n",
              "      <td>Staples Dekorasi Staples Kayu + Refill 8mm - S...</td>\n",
              "      <td>refill staples gun tacker manual isi paku temb...</td>\n",
              "      <td>0.661435</td>\n",
              "    </tr>\n",
              "    <tr>\n",
              "      <th>15</th>\n",
              "      <td>Staples Dekorasi Staples Kayu + Refill 8mm - S...</td>\n",
              "      <td>refill staples gun tacker manual isi paku temb...</td>\n",
              "      <td>0.661435</td>\n",
              "    </tr>\n",
              "    <tr>\n",
              "      <th>16</th>\n",
              "      <td>Staples Dekorasi Staples Kayu + Refill 8mm - S...</td>\n",
              "      <td>refill staples gun tacker manual isi paku temb...</td>\n",
              "      <td>0.661435</td>\n",
              "    </tr>\n",
              "    <tr>\n",
              "      <th>17</th>\n",
              "      <td>Staples Dekorasi Staples Kayu + Refill 8mm - S...</td>\n",
              "      <td>refill staples gun tacker manual isi paku temb...</td>\n",
              "      <td>0.661435</td>\n",
              "    </tr>\n",
              "    <tr>\n",
              "      <th>18</th>\n",
              "      <td>Staples Dekorasi Staples Kayu + Refill 8mm - S...</td>\n",
              "      <td>refill staples gun tacker manual isi paku temb...</td>\n",
              "      <td>0.661435</td>\n",
              "    </tr>\n",
              "    <tr>\n",
              "      <th>19</th>\n",
              "      <td>Staples Dekorasi Staples Kayu + Refill 8mm - S...</td>\n",
              "      <td>refill staples gun tacker manual isi paku temb...</td>\n",
              "      <td>0.661435</td>\n",
              "    </tr>\n",
              "    <tr>\n",
              "      <th>20</th>\n",
              "      <td>Staples Dekorasi Staples Kayu + Refill 8mm - S...</td>\n",
              "      <td>refill staples gun tacker manual isi paku temb...</td>\n",
              "      <td>0.661435</td>\n",
              "    </tr>\n",
              "    <tr>\n",
              "      <th>21</th>\n",
              "      <td>Staples Dekorasi Staples Kayu + Refill 8mm - S...</td>\n",
              "      <td>ISI REFILL Staple Stapel Straples Streples Sta...</td>\n",
              "      <td>0.672351</td>\n",
              "    </tr>\n",
              "    <tr>\n",
              "      <th>22</th>\n",
              "      <td>Staples Dekorasi Staples Kayu + Refill 8mm - S...</td>\n",
              "      <td>ISI REFILL Staple Stapel Straples Streples Sta...</td>\n",
              "      <td>0.672351</td>\n",
              "    </tr>\n",
              "    <tr>\n",
              "      <th>23</th>\n",
              "      <td>Staples Dekorasi Staples Kayu + Refill 8mm - S...</td>\n",
              "      <td>ISI REFILL Staple Stapel Straples Streples Sta...</td>\n",
              "      <td>0.672351</td>\n",
              "    </tr>\n",
              "    <tr>\n",
              "      <th>24</th>\n",
              "      <td>Staples Dekorasi Staples Kayu + Refill 8mm - S...</td>\n",
              "      <td>ISI REFILL Staple Stapel Straples Streples Sta...</td>\n",
              "      <td>0.672351</td>\n",
              "    </tr>\n",
              "    <tr>\n",
              "      <th>25</th>\n",
              "      <td>Staples Dekorasi Staples Kayu + Refill 8mm - S...</td>\n",
              "      <td>ISI REFILL Staple Stapel Straples Streples Sta...</td>\n",
              "      <td>0.672351</td>\n",
              "    </tr>\n",
              "    <tr>\n",
              "      <th>26</th>\n",
              "      <td>Staples Dekorasi Staples Kayu + Refill 8mm - S...</td>\n",
              "      <td>ISI REFILL Staple Stapel Straples Streples Sta...</td>\n",
              "      <td>0.672351</td>\n",
              "    </tr>\n",
              "    <tr>\n",
              "      <th>27</th>\n",
              "      <td>Staples Dekorasi Staples Kayu + Refill 8mm - S...</td>\n",
              "      <td>ISI REFILL Staple Stapel Straples Streples Sta...</td>\n",
              "      <td>0.672351</td>\n",
              "    </tr>\n",
              "    <tr>\n",
              "      <th>28</th>\n",
              "      <td>Staples Dekorasi Staples Kayu + Refill 8mm - S...</td>\n",
              "      <td>ISI REFILL Staple Stapel Straples Streples Sta...</td>\n",
              "      <td>0.672351</td>\n",
              "    </tr>\n",
              "    <tr>\n",
              "      <th>29</th>\n",
              "      <td>Staples Dekorasi Staples Kayu + Refill 8mm - S...</td>\n",
              "      <td>ISI REFILL Staple Stapel Straples Streples Sta...</td>\n",
              "      <td>0.672351</td>\n",
              "    </tr>\n",
              "    <tr>\n",
              "      <th>30</th>\n",
              "      <td>Staples Dekorasi Staples Kayu + Refill 8mm - S...</td>\n",
              "      <td>ISI REFILL Staple Stapel Straples Streples Sta...</td>\n",
              "      <td>0.672351</td>\n",
              "    </tr>\n",
              "    <tr>\n",
              "      <th>31</th>\n",
              "      <td>Staples Dekorasi Staples Kayu + Refill 8mm - S...</td>\n",
              "      <td>ISI REFILL Staple Stapel Straples Streples Sta...</td>\n",
              "      <td>0.672351</td>\n",
              "    </tr>\n",
              "    <tr>\n",
              "      <th>32</th>\n",
              "      <td>Staples Dekorasi Staples Kayu + Refill 8mm - S...</td>\n",
              "      <td>ISI REFILL Staple Stapel Straples Streples Sta...</td>\n",
              "      <td>0.672351</td>\n",
              "    </tr>\n",
              "    <tr>\n",
              "      <th>33</th>\n",
              "      <td>Staples Dekorasi Staples Kayu + Refill 8mm - S...</td>\n",
              "      <td>Electric Rivet Gun Adapter</td>\n",
              "      <td>0.659949</td>\n",
              "    </tr>\n",
              "    <tr>\n",
              "      <th>34</th>\n",
              "      <td>Staples Dekorasi Staples Kayu + Refill 8mm - S...</td>\n",
              "      <td>Electric Rivet Gun Adapter</td>\n",
              "      <td>0.659949</td>\n",
              "    </tr>\n",
              "    <tr>\n",
              "      <th>35</th>\n",
              "      <td>Staples Dekorasi Staples Kayu + Refill 8mm - S...</td>\n",
              "      <td>Electric Rivet Gun Adapter</td>\n",
              "      <td>0.659949</td>\n",
              "    </tr>\n",
              "    <tr>\n",
              "      <th>36</th>\n",
              "      <td>Staples Dekorasi Staples Kayu + Refill 8mm - S...</td>\n",
              "      <td>Staple Gun 3 in 1 Mollar Staples Tembak Staple...</td>\n",
              "      <td>0.808163</td>\n",
              "    </tr>\n",
              "    <tr>\n",
              "      <th>37</th>\n",
              "      <td>Staples Dekorasi Staples Kayu + Refill 8mm - S...</td>\n",
              "      <td>Staple Gun 3 in 1 Mollar Staples Tembak Staple...</td>\n",
              "      <td>0.808163</td>\n",
              "    </tr>\n",
              "    <tr>\n",
              "      <th>38</th>\n",
              "      <td>Staples Dekorasi Staples Kayu + Refill 8mm - S...</td>\n",
              "      <td>Staple Gun 3 in 1 Mollar Staples Tembak Staple...</td>\n",
              "      <td>0.808163</td>\n",
              "    </tr>\n",
              "    <tr>\n",
              "      <th>39</th>\n",
              "      <td>Staples Dekorasi Staples Kayu + Refill 8mm - S...</td>\n",
              "      <td>Staple Gun 3 in 1 Mollar Staples Tembak Staple...</td>\n",
              "      <td>0.808163</td>\n",
              "    </tr>\n",
              "  </tbody>\n",
              "</table>\n",
              "</div>"
            ],
            "text/plain": [
              "                                               story1  \\\n",
              "0   Staples Dekorasi Staples Kayu + Refill 8mm - S...   \n",
              "1   Staples Dekorasi Staples Kayu + Refill 8mm - S...   \n",
              "2   Staples Dekorasi Staples Kayu + Refill 8mm - S...   \n",
              "3   Staples Dekorasi Staples Kayu + Refill 8mm - S...   \n",
              "4   Staples Dekorasi Staples Kayu + Refill 8mm - S...   \n",
              "5   Staples Dekorasi Staples Kayu + Refill 8mm - S...   \n",
              "6   Staples Dekorasi Staples Kayu + Refill 8mm - S...   \n",
              "7   Staples Dekorasi Staples Kayu + Refill 8mm - S...   \n",
              "8   Staples Dekorasi Staples Kayu + Refill 8mm - S...   \n",
              "9   Staples Dekorasi Staples Kayu + Refill 8mm - S...   \n",
              "10  Staples Dekorasi Staples Kayu + Refill 8mm - S...   \n",
              "11  Staples Dekorasi Staples Kayu + Refill 8mm - S...   \n",
              "12  Staples Dekorasi Staples Kayu + Refill 8mm - S...   \n",
              "13  Staples Dekorasi Staples Kayu + Refill 8mm - S...   \n",
              "14  Staples Dekorasi Staples Kayu + Refill 8mm - S...   \n",
              "15  Staples Dekorasi Staples Kayu + Refill 8mm - S...   \n",
              "16  Staples Dekorasi Staples Kayu + Refill 8mm - S...   \n",
              "17  Staples Dekorasi Staples Kayu + Refill 8mm - S...   \n",
              "18  Staples Dekorasi Staples Kayu + Refill 8mm - S...   \n",
              "19  Staples Dekorasi Staples Kayu + Refill 8mm - S...   \n",
              "20  Staples Dekorasi Staples Kayu + Refill 8mm - S...   \n",
              "21  Staples Dekorasi Staples Kayu + Refill 8mm - S...   \n",
              "22  Staples Dekorasi Staples Kayu + Refill 8mm - S...   \n",
              "23  Staples Dekorasi Staples Kayu + Refill 8mm - S...   \n",
              "24  Staples Dekorasi Staples Kayu + Refill 8mm - S...   \n",
              "25  Staples Dekorasi Staples Kayu + Refill 8mm - S...   \n",
              "26  Staples Dekorasi Staples Kayu + Refill 8mm - S...   \n",
              "27  Staples Dekorasi Staples Kayu + Refill 8mm - S...   \n",
              "28  Staples Dekorasi Staples Kayu + Refill 8mm - S...   \n",
              "29  Staples Dekorasi Staples Kayu + Refill 8mm - S...   \n",
              "30  Staples Dekorasi Staples Kayu + Refill 8mm - S...   \n",
              "31  Staples Dekorasi Staples Kayu + Refill 8mm - S...   \n",
              "32  Staples Dekorasi Staples Kayu + Refill 8mm - S...   \n",
              "33  Staples Dekorasi Staples Kayu + Refill 8mm - S...   \n",
              "34  Staples Dekorasi Staples Kayu + Refill 8mm - S...   \n",
              "35  Staples Dekorasi Staples Kayu + Refill 8mm - S...   \n",
              "36  Staples Dekorasi Staples Kayu + Refill 8mm - S...   \n",
              "37  Staples Dekorasi Staples Kayu + Refill 8mm - S...   \n",
              "38  Staples Dekorasi Staples Kayu + Refill 8mm - S...   \n",
              "39  Staples Dekorasi Staples Kayu + Refill 8mm - S...   \n",
              "\n",
              "                                               story2  similarity  \n",
              "0   Staples Dekorasi Staples Kayu + Refill 8mm - S...    1.000000  \n",
              "1   STAPLE GUN ATS 3 WAY TACKER - STAPLES JOK TEMB...    0.769919  \n",
              "2   STAPLE GUN ATS 3 WAY TACKER - STAPLES JOK TEMB...    0.769919  \n",
              "3   ALAT STAPLES TEMBAK &#40;AIR NAILER GUN&#41; O...    0.674645  \n",
              "4   Isi Refill Staples Jok Kulit Motor / Staple Gu...    0.857041  \n",
              "5   Isi Refill Staples Jok Kulit Motor / Staple Gu...    0.857041  \n",
              "6   Isi Refill Staples Jok Kulit Motor / Staple Gu...    0.857041  \n",
              "7   Isi Refill Staples Jok Kulit Motor / Staple Gu...    0.857041  \n",
              "8   refill staples gun tacker manual isi paku temb...    0.661435  \n",
              "9   refill staples gun tacker manual isi paku temb...    0.661435  \n",
              "10  refill staples gun tacker manual isi paku temb...    0.661435  \n",
              "11  refill staples gun tacker manual isi paku temb...    0.661435  \n",
              "12  refill staples gun tacker manual isi paku temb...    0.661435  \n",
              "13  refill staples gun tacker manual isi paku temb...    0.661435  \n",
              "14  refill staples gun tacker manual isi paku temb...    0.661435  \n",
              "15  refill staples gun tacker manual isi paku temb...    0.661435  \n",
              "16  refill staples gun tacker manual isi paku temb...    0.661435  \n",
              "17  refill staples gun tacker manual isi paku temb...    0.661435  \n",
              "18  refill staples gun tacker manual isi paku temb...    0.661435  \n",
              "19  refill staples gun tacker manual isi paku temb...    0.661435  \n",
              "20  refill staples gun tacker manual isi paku temb...    0.661435  \n",
              "21  ISI REFILL Staple Stapel Straples Streples Sta...    0.672351  \n",
              "22  ISI REFILL Staple Stapel Straples Streples Sta...    0.672351  \n",
              "23  ISI REFILL Staple Stapel Straples Streples Sta...    0.672351  \n",
              "24  ISI REFILL Staple Stapel Straples Streples Sta...    0.672351  \n",
              "25  ISI REFILL Staple Stapel Straples Streples Sta...    0.672351  \n",
              "26  ISI REFILL Staple Stapel Straples Streples Sta...    0.672351  \n",
              "27  ISI REFILL Staple Stapel Straples Streples Sta...    0.672351  \n",
              "28  ISI REFILL Staple Stapel Straples Streples Sta...    0.672351  \n",
              "29  ISI REFILL Staple Stapel Straples Streples Sta...    0.672351  \n",
              "30  ISI REFILL Staple Stapel Straples Streples Sta...    0.672351  \n",
              "31  ISI REFILL Staple Stapel Straples Streples Sta...    0.672351  \n",
              "32  ISI REFILL Staple Stapel Straples Streples Sta...    0.672351  \n",
              "33                         Electric Rivet Gun Adapter    0.659949  \n",
              "34                         Electric Rivet Gun Adapter    0.659949  \n",
              "35                         Electric Rivet Gun Adapter    0.659949  \n",
              "36  Staple Gun 3 in 1 Mollar Staples Tembak Staple...    0.808163  \n",
              "37  Staple Gun 3 in 1 Mollar Staples Tembak Staple...    0.808163  \n",
              "38  Staple Gun 3 in 1 Mollar Staples Tembak Staple...    0.808163  \n",
              "39  Staple Gun 3 in 1 Mollar Staples Tembak Staple...    0.808163  "
            ]
          },
          "execution_count": 133,
          "metadata": {},
          "output_type": "execute_result"
        }
      ],
      "source": [
        "story_similarity.head(40)"
      ]
    },
    {
      "cell_type": "code",
      "execution_count": null,
      "metadata": {
        "id": "WnogRIM5Zvcx"
      },
      "outputs": [],
      "source": [
        "story_similarity.rset_index(inplace=True)"
      ]
    },
    {
      "cell_type": "code",
      "execution_count": null,
      "metadata": {
        "id": "PF21Jf8jZvcx",
        "outputId": "2073409f-993f-4f7f-a3cd-02d9dc8eea82"
      },
      "outputs": [
        {
          "data": {
            "text/plain": [
              "story1         9\n",
              "story2         9\n",
              "similarity    37\n",
              "dtype: int64"
            ]
          },
          "execution_count": 134,
          "metadata": {},
          "output_type": "execute_result"
        }
      ],
      "source": [
        "story_similarity.nunique()"
      ]
    },
    {
      "cell_type": "code",
      "execution_count": null,
      "metadata": {
        "id": "hmXx0hTzZvcy"
      },
      "outputs": [],
      "source": [
        "story_similarity=story_similarity.drop(['index'], axis=1)"
      ]
    },
    {
      "cell_type": "code",
      "execution_count": null,
      "metadata": {
        "id": "72QLd6JWZvcy"
      },
      "outputs": [],
      "source": [
        "story_similarity.index.name = None"
      ]
    },
    {
      "cell_type": "code",
      "execution_count": null,
      "metadata": {
        "id": "cuwTyXJ-Zvcy",
        "outputId": "bbe236ca-2926-4d34-87c3-5b2385934155"
      },
      "outputs": [
        {
          "data": {
            "text/html": [
              "<div>\n",
              "<style scoped>\n",
              "    .dataframe tbody tr th:only-of-type {\n",
              "        vertical-align: middle;\n",
              "    }\n",
              "\n",
              "    .dataframe tbody tr th {\n",
              "        vertical-align: top;\n",
              "    }\n",
              "\n",
              "    .dataframe thead th {\n",
              "        text-align: right;\n",
              "    }\n",
              "</style>\n",
              "<table border=\"1\" class=\"dataframe\">\n",
              "  <thead>\n",
              "    <tr style=\"text-align: right;\">\n",
              "      <th></th>\n",
              "      <th>story1</th>\n",
              "      <th>story2</th>\n",
              "      <th>similarity</th>\n",
              "    </tr>\n",
              "  </thead>\n",
              "  <tbody>\n",
              "    <tr>\n",
              "      <th>0</th>\n",
              "      <td>Staples Dekorasi Staples Kayu + Refill 8mm - S...</td>\n",
              "      <td>Staples Dekorasi Staples Kayu + Refill 8mm - S...</td>\n",
              "      <td>1.000000</td>\n",
              "    </tr>\n",
              "    <tr>\n",
              "      <th>1</th>\n",
              "      <td>Staples Dekorasi Staples Kayu + Refill 8mm - S...</td>\n",
              "      <td>STAPLE GUN ATS 3 WAY TACKER - STAPLES JOK TEMB...</td>\n",
              "      <td>0.769919</td>\n",
              "    </tr>\n",
              "    <tr>\n",
              "      <th>2</th>\n",
              "      <td>Staples Dekorasi Staples Kayu + Refill 8mm - S...</td>\n",
              "      <td>STAPLE GUN ATS 3 WAY TACKER - STAPLES JOK TEMB...</td>\n",
              "      <td>0.769919</td>\n",
              "    </tr>\n",
              "    <tr>\n",
              "      <th>3</th>\n",
              "      <td>Staples Dekorasi Staples Kayu + Refill 8mm - S...</td>\n",
              "      <td>ALAT STAPLES TEMBAK &amp;#40;AIR NAILER GUN&amp;#41; O...</td>\n",
              "      <td>0.674645</td>\n",
              "    </tr>\n",
              "    <tr>\n",
              "      <th>4</th>\n",
              "      <td>Staples Dekorasi Staples Kayu + Refill 8mm - S...</td>\n",
              "      <td>Isi Refill Staples Jok Kulit Motor / Staple Gu...</td>\n",
              "      <td>0.857041</td>\n",
              "    </tr>\n",
              "  </tbody>\n",
              "</table>\n",
              "</div>"
            ],
            "text/plain": [
              "                                              story1  \\\n",
              "0  Staples Dekorasi Staples Kayu + Refill 8mm - S...   \n",
              "1  Staples Dekorasi Staples Kayu + Refill 8mm - S...   \n",
              "2  Staples Dekorasi Staples Kayu + Refill 8mm - S...   \n",
              "3  Staples Dekorasi Staples Kayu + Refill 8mm - S...   \n",
              "4  Staples Dekorasi Staples Kayu + Refill 8mm - S...   \n",
              "\n",
              "                                              story2  similarity  \n",
              "0  Staples Dekorasi Staples Kayu + Refill 8mm - S...    1.000000  \n",
              "1  STAPLE GUN ATS 3 WAY TACKER - STAPLES JOK TEMB...    0.769919  \n",
              "2  STAPLE GUN ATS 3 WAY TACKER - STAPLES JOK TEMB...    0.769919  \n",
              "3  ALAT STAPLES TEMBAK &#40;AIR NAILER GUN&#41; O...    0.674645  \n",
              "4  Isi Refill Staples Jok Kulit Motor / Staple Gu...    0.857041  "
            ]
          },
          "execution_count": 110,
          "metadata": {},
          "output_type": "execute_result"
        }
      ],
      "source": [
        "story_similarity.head()"
      ]
    },
    {
      "cell_type": "code",
      "execution_count": null,
      "metadata": {
        "id": "sSWAyZtoZvcy",
        "outputId": "8dbca142-397f-43b6-ec3f-abc74ef33e46"
      },
      "outputs": [
        {
          "data": {
            "text/plain": [
              "9919"
            ]
          },
          "execution_count": 91,
          "metadata": {},
          "output_type": "execute_result"
        }
      ],
      "source": [
        "story_similarity.duplicated().sum()"
      ]
    },
    {
      "cell_type": "code",
      "execution_count": null,
      "metadata": {
        "id": "FQX-AArFZvcz",
        "outputId": "d5ccd5a4-e5d1-4a88-ca86-e4b7ddd26c96"
      },
      "outputs": [
        {
          "data": {
            "text/plain": [
              "(10000, 3)"
            ]
          },
          "execution_count": 147,
          "metadata": {},
          "output_type": "execute_result"
        }
      ],
      "source": [
        "story_similarity.shape"
      ]
    },
    {
      "cell_type": "code",
      "execution_count": null,
      "metadata": {
        "id": "xVuvCqkdZvcz"
      },
      "outputs": [],
      "source": [
        "story_similarity=story_similarity.drop_duplicates()"
      ]
    },
    {
      "cell_type": "code",
      "execution_count": null,
      "metadata": {
        "id": "1xWBjZ2MZvcz",
        "outputId": "9ea94491-bf4d-43d9-f6f5-35a37123dd4d"
      },
      "outputs": [
        {
          "data": {
            "text/plain": [
              "(81, 3)"
            ]
          },
          "execution_count": 154,
          "metadata": {},
          "output_type": "execute_result"
        }
      ],
      "source": [
        "story_similarity.shape"
      ]
    },
    {
      "cell_type": "code",
      "execution_count": null,
      "metadata": {
        "id": "3x3_8KeSZvcz",
        "outputId": "7ed2ee7c-cd5b-4edf-f753-151bcc4f1f3b"
      },
      "outputs": [
        {
          "data": {
            "text/html": [
              "<div>\n",
              "<style scoped>\n",
              "    .dataframe tbody tr th:only-of-type {\n",
              "        vertical-align: middle;\n",
              "    }\n",
              "\n",
              "    .dataframe tbody tr th {\n",
              "        vertical-align: top;\n",
              "    }\n",
              "\n",
              "    .dataframe thead th {\n",
              "        text-align: right;\n",
              "    }\n",
              "</style>\n",
              "<table border=\"1\" class=\"dataframe\">\n",
              "  <thead>\n",
              "    <tr style=\"text-align: right;\">\n",
              "      <th></th>\n",
              "      <th>story1</th>\n",
              "      <th>story2</th>\n",
              "      <th>similarity</th>\n",
              "    </tr>\n",
              "  </thead>\n",
              "  <tbody>\n",
              "    <tr>\n",
              "      <th>0</th>\n",
              "      <td>Staples Dekorasi Staples Kayu + Refill 8mm - S...</td>\n",
              "      <td>Staples Dekorasi Staples Kayu + Refill 8mm - S...</td>\n",
              "      <td>1.000000</td>\n",
              "    </tr>\n",
              "    <tr>\n",
              "      <th>1</th>\n",
              "      <td>Staples Dekorasi Staples Kayu + Refill 8mm - S...</td>\n",
              "      <td>STAPLE GUN ATS 3 WAY TACKER - STAPLES JOK TEMB...</td>\n",
              "      <td>0.769919</td>\n",
              "    </tr>\n",
              "    <tr>\n",
              "      <th>3</th>\n",
              "      <td>Staples Dekorasi Staples Kayu + Refill 8mm - S...</td>\n",
              "      <td>ALAT STAPLES TEMBAK &amp;#40;AIR NAILER GUN&amp;#41; O...</td>\n",
              "      <td>0.674645</td>\n",
              "    </tr>\n",
              "    <tr>\n",
              "      <th>4</th>\n",
              "      <td>Staples Dekorasi Staples Kayu + Refill 8mm - S...</td>\n",
              "      <td>Isi Refill Staples Jok Kulit Motor / Staple Gu...</td>\n",
              "      <td>0.857041</td>\n",
              "    </tr>\n",
              "    <tr>\n",
              "      <th>8</th>\n",
              "      <td>Staples Dekorasi Staples Kayu + Refill 8mm - S...</td>\n",
              "      <td>refill staples gun tacker manual isi paku temb...</td>\n",
              "      <td>0.661435</td>\n",
              "    </tr>\n",
              "  </tbody>\n",
              "</table>\n",
              "</div>"
            ],
            "text/plain": [
              "                                              story1  \\\n",
              "0  Staples Dekorasi Staples Kayu + Refill 8mm - S...   \n",
              "1  Staples Dekorasi Staples Kayu + Refill 8mm - S...   \n",
              "3  Staples Dekorasi Staples Kayu + Refill 8mm - S...   \n",
              "4  Staples Dekorasi Staples Kayu + Refill 8mm - S...   \n",
              "8  Staples Dekorasi Staples Kayu + Refill 8mm - S...   \n",
              "\n",
              "                                              story2  similarity  \n",
              "0  Staples Dekorasi Staples Kayu + Refill 8mm - S...    1.000000  \n",
              "1  STAPLE GUN ATS 3 WAY TACKER - STAPLES JOK TEMB...    0.769919  \n",
              "3  ALAT STAPLES TEMBAK &#40;AIR NAILER GUN&#41; O...    0.674645  \n",
              "4  Isi Refill Staples Jok Kulit Motor / Staple Gu...    0.857041  \n",
              "8  refill staples gun tacker manual isi paku temb...    0.661435  "
            ]
          },
          "execution_count": 155,
          "metadata": {},
          "output_type": "execute_result"
        }
      ],
      "source": [
        "story_similarity.head()"
      ]
    },
    {
      "cell_type": "code",
      "execution_count": null,
      "metadata": {
        "id": "nAY3KMPvZvc0"
      },
      "outputs": [],
      "source": [
        "similarity_matrix =story_similarity.pivot(index='story1',\n",
        "        columns='story2',\n",
        "        values='similarity')"
      ]
    },
    {
      "cell_type": "code",
      "execution_count": null,
      "metadata": {
        "id": "ddtHY3f3Zvc0",
        "outputId": "37c62fa1-c98c-4672-e30e-2fd4c44eebd3"
      },
      "outputs": [
        {
          "data": {
            "text/html": [
              "<div>\n",
              "<style scoped>\n",
              "    .dataframe tbody tr th:only-of-type {\n",
              "        vertical-align: middle;\n",
              "    }\n",
              "\n",
              "    .dataframe tbody tr th {\n",
              "        vertical-align: top;\n",
              "    }\n",
              "\n",
              "    .dataframe thead th {\n",
              "        text-align: right;\n",
              "    }\n",
              "</style>\n",
              "<table border=\"1\" class=\"dataframe\">\n",
              "  <thead>\n",
              "    <tr style=\"text-align: right;\">\n",
              "      <th>story2</th>\n",
              "      <th>ALAT STAPLES TEMBAK &amp;#40;AIR NAILER GUN&amp;#41; OSSEL 1022J</th>\n",
              "      <th>Electric Rivet Gun Adapter</th>\n",
              "      <th>ISI REFILL Staple Stapel Straples Streples Staples Paku tembak GUN</th>\n",
              "      <th>Isi Refill Staples Jok Kulit Motor / Staple Gun Max t3-10 mb MAX</th>\n",
              "      <th>Isi Staples Tembak 8 mm best guard</th>\n",
              "      <th>STAPLE GUN ATS 3 WAY TACKER - STAPLES JOK TEMBAK HEKTER 022708</th>\n",
              "      <th>Staple Gun 3 in 1 Mollar Staples Tembak Stapler Tacker Hekter Heckter</th>\n",
              "      <th>Staples Dekorasi Staples Kayu + Refill 8mm - Staples Gun 4-8 mm C Mart</th>\n",
              "      <th>refill staples gun tacker manual isi paku tembak model bread nail 14mm</th>\n",
              "    </tr>\n",
              "    <tr>\n",
              "      <th>story1</th>\n",
              "      <th></th>\n",
              "      <th></th>\n",
              "      <th></th>\n",
              "      <th></th>\n",
              "      <th></th>\n",
              "      <th></th>\n",
              "      <th></th>\n",
              "      <th></th>\n",
              "      <th></th>\n",
              "    </tr>\n",
              "  </thead>\n",
              "  <tbody>\n",
              "    <tr>\n",
              "      <th>ALAT STAPLES TEMBAK &amp;#40;AIR NAILER GUN&amp;#41; OSSEL 1022J</th>\n",
              "      <td>1.000000</td>\n",
              "      <td>0.651293</td>\n",
              "      <td>0.560478</td>\n",
              "      <td>0.674633</td>\n",
              "      <td>0.622309</td>\n",
              "      <td>0.751036</td>\n",
              "      <td>0.668105</td>\n",
              "      <td>0.674645</td>\n",
              "      <td>0.587251</td>\n",
              "    </tr>\n",
              "    <tr>\n",
              "      <th>Electric Rivet Gun Adapter</th>\n",
              "      <td>0.651293</td>\n",
              "      <td>1.000000</td>\n",
              "      <td>0.795144</td>\n",
              "      <td>0.846239</td>\n",
              "      <td>0.708044</td>\n",
              "      <td>0.699016</td>\n",
              "      <td>0.845827</td>\n",
              "      <td>0.659949</td>\n",
              "      <td>0.709897</td>\n",
              "    </tr>\n",
              "    <tr>\n",
              "      <th>ISI REFILL Staple Stapel Straples Streples Staples Paku tembak GUN</th>\n",
              "      <td>0.560478</td>\n",
              "      <td>0.795144</td>\n",
              "      <td>1.000000</td>\n",
              "      <td>0.799919</td>\n",
              "      <td>0.762014</td>\n",
              "      <td>0.638759</td>\n",
              "      <td>0.852118</td>\n",
              "      <td>0.672351</td>\n",
              "      <td>0.801751</td>\n",
              "    </tr>\n",
              "    <tr>\n",
              "      <th>Isi Refill Staples Jok Kulit Motor / Staple Gun Max t3-10 mb MAX</th>\n",
              "      <td>0.674633</td>\n",
              "      <td>0.846239</td>\n",
              "      <td>0.799919</td>\n",
              "      <td>1.000000</td>\n",
              "      <td>0.747681</td>\n",
              "      <td>0.794626</td>\n",
              "      <td>0.886889</td>\n",
              "      <td>0.857041</td>\n",
              "      <td>0.774126</td>\n",
              "    </tr>\n",
              "    <tr>\n",
              "      <th>Isi Staples Tembak 8 mm best guard</th>\n",
              "      <td>0.622309</td>\n",
              "      <td>0.708044</td>\n",
              "      <td>0.762014</td>\n",
              "      <td>0.747681</td>\n",
              "      <td>1.000000</td>\n",
              "      <td>0.712080</td>\n",
              "      <td>0.759598</td>\n",
              "      <td>0.741735</td>\n",
              "      <td>0.787753</td>\n",
              "    </tr>\n",
              "    <tr>\n",
              "      <th>STAPLE GUN ATS 3 WAY TACKER - STAPLES JOK TEMBAK HEKTER 022708</th>\n",
              "      <td>0.751036</td>\n",
              "      <td>0.699016</td>\n",
              "      <td>0.638759</td>\n",
              "      <td>0.794626</td>\n",
              "      <td>0.712080</td>\n",
              "      <td>1.000000</td>\n",
              "      <td>0.783936</td>\n",
              "      <td>0.769919</td>\n",
              "      <td>0.731979</td>\n",
              "    </tr>\n",
              "    <tr>\n",
              "      <th>Staple Gun 3 in 1 Mollar Staples Tembak Stapler Tacker Hekter Heckter</th>\n",
              "      <td>0.668105</td>\n",
              "      <td>0.845827</td>\n",
              "      <td>0.852118</td>\n",
              "      <td>0.886889</td>\n",
              "      <td>0.759598</td>\n",
              "      <td>0.783936</td>\n",
              "      <td>1.000000</td>\n",
              "      <td>0.808163</td>\n",
              "      <td>0.774495</td>\n",
              "    </tr>\n",
              "    <tr>\n",
              "      <th>Staples Dekorasi Staples Kayu + Refill 8mm - Staples Gun 4-8 mm C Mart</th>\n",
              "      <td>0.674645</td>\n",
              "      <td>0.659949</td>\n",
              "      <td>0.672351</td>\n",
              "      <td>0.857041</td>\n",
              "      <td>0.741735</td>\n",
              "      <td>0.769919</td>\n",
              "      <td>0.808163</td>\n",
              "      <td>1.000000</td>\n",
              "      <td>0.661435</td>\n",
              "    </tr>\n",
              "    <tr>\n",
              "      <th>refill staples gun tacker manual isi paku tembak model bread nail 14mm</th>\n",
              "      <td>0.587251</td>\n",
              "      <td>0.709897</td>\n",
              "      <td>0.801751</td>\n",
              "      <td>0.774126</td>\n",
              "      <td>0.787753</td>\n",
              "      <td>0.731979</td>\n",
              "      <td>0.774495</td>\n",
              "      <td>0.661435</td>\n",
              "      <td>1.000000</td>\n",
              "    </tr>\n",
              "  </tbody>\n",
              "</table>\n",
              "</div>"
            ],
            "text/plain": [
              "story2                                              ALAT STAPLES TEMBAK &#40;AIR NAILER GUN&#41; OSSEL 1022J  \\\n",
              "story1                                                                                                         \n",
              "ALAT STAPLES TEMBAK &#40;AIR NAILER GUN&#41; OS...                                           1.000000          \n",
              "Electric Rivet Gun Adapter                                                                   0.651293          \n",
              "ISI REFILL Staple Stapel Straples Streples Stap...                                           0.560478          \n",
              "Isi Refill Staples Jok Kulit Motor / Staple Gun...                                           0.674633          \n",
              "Isi Staples Tembak 8 mm best guard                                                           0.622309          \n",
              "STAPLE GUN ATS 3 WAY TACKER - STAPLES JOK TEMBA...                                           0.751036          \n",
              "Staple Gun 3 in 1 Mollar Staples Tembak Stapler...                                           0.668105          \n",
              "Staples Dekorasi Staples Kayu + Refill 8mm - St...                                           0.674645          \n",
              "refill staples gun tacker manual isi paku temba...                                           0.587251          \n",
              "\n",
              "story2                                              Electric Rivet Gun Adapter  \\\n",
              "story1                                                                           \n",
              "ALAT STAPLES TEMBAK &#40;AIR NAILER GUN&#41; OS...                    0.651293   \n",
              "Electric Rivet Gun Adapter                                            1.000000   \n",
              "ISI REFILL Staple Stapel Straples Streples Stap...                    0.795144   \n",
              "Isi Refill Staples Jok Kulit Motor / Staple Gun...                    0.846239   \n",
              "Isi Staples Tembak 8 mm best guard                                    0.708044   \n",
              "STAPLE GUN ATS 3 WAY TACKER - STAPLES JOK TEMBA...                    0.699016   \n",
              "Staple Gun 3 in 1 Mollar Staples Tembak Stapler...                    0.845827   \n",
              "Staples Dekorasi Staples Kayu + Refill 8mm - St...                    0.659949   \n",
              "refill staples gun tacker manual isi paku temba...                    0.709897   \n",
              "\n",
              "story2                                              ISI REFILL Staple Stapel Straples Streples Staples Paku tembak GUN  \\\n",
              "story1                                                                                                                   \n",
              "ALAT STAPLES TEMBAK &#40;AIR NAILER GUN&#41; OS...                                           0.560478                    \n",
              "Electric Rivet Gun Adapter                                                                   0.795144                    \n",
              "ISI REFILL Staple Stapel Straples Streples Stap...                                           1.000000                    \n",
              "Isi Refill Staples Jok Kulit Motor / Staple Gun...                                           0.799919                    \n",
              "Isi Staples Tembak 8 mm best guard                                                           0.762014                    \n",
              "STAPLE GUN ATS 3 WAY TACKER - STAPLES JOK TEMBA...                                           0.638759                    \n",
              "Staple Gun 3 in 1 Mollar Staples Tembak Stapler...                                           0.852118                    \n",
              "Staples Dekorasi Staples Kayu + Refill 8mm - St...                                           0.672351                    \n",
              "refill staples gun tacker manual isi paku temba...                                           0.801751                    \n",
              "\n",
              "story2                                              Isi Refill Staples Jok Kulit Motor / Staple Gun Max t3-10 mb MAX  \\\n",
              "story1                                                                                                                 \n",
              "ALAT STAPLES TEMBAK &#40;AIR NAILER GUN&#41; OS...                                           0.674633                  \n",
              "Electric Rivet Gun Adapter                                                                   0.846239                  \n",
              "ISI REFILL Staple Stapel Straples Streples Stap...                                           0.799919                  \n",
              "Isi Refill Staples Jok Kulit Motor / Staple Gun...                                           1.000000                  \n",
              "Isi Staples Tembak 8 mm best guard                                                           0.747681                  \n",
              "STAPLE GUN ATS 3 WAY TACKER - STAPLES JOK TEMBA...                                           0.794626                  \n",
              "Staple Gun 3 in 1 Mollar Staples Tembak Stapler...                                           0.886889                  \n",
              "Staples Dekorasi Staples Kayu + Refill 8mm - St...                                           0.857041                  \n",
              "refill staples gun tacker manual isi paku temba...                                           0.774126                  \n",
              "\n",
              "story2                                              Isi Staples Tembak 8 mm best guard  \\\n",
              "story1                                                                                   \n",
              "ALAT STAPLES TEMBAK &#40;AIR NAILER GUN&#41; OS...                            0.622309   \n",
              "Electric Rivet Gun Adapter                                                    0.708044   \n",
              "ISI REFILL Staple Stapel Straples Streples Stap...                            0.762014   \n",
              "Isi Refill Staples Jok Kulit Motor / Staple Gun...                            0.747681   \n",
              "Isi Staples Tembak 8 mm best guard                                            1.000000   \n",
              "STAPLE GUN ATS 3 WAY TACKER - STAPLES JOK TEMBA...                            0.712080   \n",
              "Staple Gun 3 in 1 Mollar Staples Tembak Stapler...                            0.759598   \n",
              "Staples Dekorasi Staples Kayu + Refill 8mm - St...                            0.741735   \n",
              "refill staples gun tacker manual isi paku temba...                            0.787753   \n",
              "\n",
              "story2                                              STAPLE GUN ATS 3 WAY TACKER - STAPLES JOK TEMBAK HEKTER 022708  \\\n",
              "story1                                                                                                               \n",
              "ALAT STAPLES TEMBAK &#40;AIR NAILER GUN&#41; OS...                                           0.751036                \n",
              "Electric Rivet Gun Adapter                                                                   0.699016                \n",
              "ISI REFILL Staple Stapel Straples Streples Stap...                                           0.638759                \n",
              "Isi Refill Staples Jok Kulit Motor / Staple Gun...                                           0.794626                \n",
              "Isi Staples Tembak 8 mm best guard                                                           0.712080                \n",
              "STAPLE GUN ATS 3 WAY TACKER - STAPLES JOK TEMBA...                                           1.000000                \n",
              "Staple Gun 3 in 1 Mollar Staples Tembak Stapler...                                           0.783936                \n",
              "Staples Dekorasi Staples Kayu + Refill 8mm - St...                                           0.769919                \n",
              "refill staples gun tacker manual isi paku temba...                                           0.731979                \n",
              "\n",
              "story2                                              Staple Gun 3 in 1 Mollar Staples Tembak Stapler Tacker Hekter Heckter  \\\n",
              "story1                                                                                                                      \n",
              "ALAT STAPLES TEMBAK &#40;AIR NAILER GUN&#41; OS...                                           0.668105                       \n",
              "Electric Rivet Gun Adapter                                                                   0.845827                       \n",
              "ISI REFILL Staple Stapel Straples Streples Stap...                                           0.852118                       \n",
              "Isi Refill Staples Jok Kulit Motor / Staple Gun...                                           0.886889                       \n",
              "Isi Staples Tembak 8 mm best guard                                                           0.759598                       \n",
              "STAPLE GUN ATS 3 WAY TACKER - STAPLES JOK TEMBA...                                           0.783936                       \n",
              "Staple Gun 3 in 1 Mollar Staples Tembak Stapler...                                           1.000000                       \n",
              "Staples Dekorasi Staples Kayu + Refill 8mm - St...                                           0.808163                       \n",
              "refill staples gun tacker manual isi paku temba...                                           0.774495                       \n",
              "\n",
              "story2                                              Staples Dekorasi Staples Kayu + Refill 8mm - Staples Gun 4-8 mm C Mart  \\\n",
              "story1                                                                                                                       \n",
              "ALAT STAPLES TEMBAK &#40;AIR NAILER GUN&#41; OS...                                           0.674645                        \n",
              "Electric Rivet Gun Adapter                                                                   0.659949                        \n",
              "ISI REFILL Staple Stapel Straples Streples Stap...                                           0.672351                        \n",
              "Isi Refill Staples Jok Kulit Motor / Staple Gun...                                           0.857041                        \n",
              "Isi Staples Tembak 8 mm best guard                                                           0.741735                        \n",
              "STAPLE GUN ATS 3 WAY TACKER - STAPLES JOK TEMBA...                                           0.769919                        \n",
              "Staple Gun 3 in 1 Mollar Staples Tembak Stapler...                                           0.808163                        \n",
              "Staples Dekorasi Staples Kayu + Refill 8mm - St...                                           1.000000                        \n",
              "refill staples gun tacker manual isi paku temba...                                           0.661435                        \n",
              "\n",
              "story2                                              refill staples gun tacker manual isi paku tembak model bread nail 14mm  \n",
              "story1                                                                                                                      \n",
              "ALAT STAPLES TEMBAK &#40;AIR NAILER GUN&#41; OS...                                           0.587251                       \n",
              "Electric Rivet Gun Adapter                                                                   0.709897                       \n",
              "ISI REFILL Staple Stapel Straples Streples Stap...                                           0.801751                       \n",
              "Isi Refill Staples Jok Kulit Motor / Staple Gun...                                           0.774126                       \n",
              "Isi Staples Tembak 8 mm best guard                                                           0.787753                       \n",
              "STAPLE GUN ATS 3 WAY TACKER - STAPLES JOK TEMBA...                                           0.731979                       \n",
              "Staple Gun 3 in 1 Mollar Staples Tembak Stapler...                                           0.774495                       \n",
              "Staples Dekorasi Staples Kayu + Refill 8mm - St...                                           0.661435                       \n",
              "refill staples gun tacker manual isi paku temba...                                           1.000000                       "
            ]
          },
          "execution_count": 158,
          "metadata": {},
          "output_type": "execute_result"
        }
      ],
      "source": [
        "similarity_matrix.head(30)"
      ]
    },
    {
      "cell_type": "code",
      "execution_count": null,
      "metadata": {
        "id": "S7xhsx2hZvc0",
        "outputId": "2443fcdf-ffc3-405b-f310-4428bb206395"
      },
      "outputs": [
        {
          "data": {
            "text/html": [
              "<div>\n",
              "<style scoped>\n",
              "    .dataframe tbody tr th:only-of-type {\n",
              "        vertical-align: middle;\n",
              "    }\n",
              "\n",
              "    .dataframe tbody tr th {\n",
              "        vertical-align: top;\n",
              "    }\n",
              "\n",
              "    .dataframe thead th {\n",
              "        text-align: right;\n",
              "    }\n",
              "</style>\n",
              "<table border=\"1\" class=\"dataframe\">\n",
              "  <thead>\n",
              "    <tr style=\"text-align: right;\">\n",
              "      <th>story2</th>\n",
              "      <th>ALAT STAPLES TEMBAK &amp;#40;AIR NAILER GUN&amp;#41; OSSEL 1022J</th>\n",
              "      <th>Electric Rivet Gun Adapter</th>\n",
              "      <th>ISI REFILL Staple Stapel Straples Streples Staples Paku tembak GUN</th>\n",
              "      <th>Isi Refill Staples Jok Kulit Motor / Staple Gun Max t3-10 mb MAX</th>\n",
              "      <th>Isi Staples Tembak 8 mm best guard</th>\n",
              "      <th>STAPLE GUN ATS 3 WAY TACKER - STAPLES JOK TEMBAK HEKTER 022708</th>\n",
              "      <th>Staple Gun 3 in 1 Mollar Staples Tembak Stapler Tacker Hekter Heckter</th>\n",
              "      <th>Staples Dekorasi Staples Kayu + Refill 8mm - Staples Gun 4-8 mm C Mart</th>\n",
              "      <th>refill staples gun tacker manual isi paku tembak model bread nail 14mm</th>\n",
              "    </tr>\n",
              "    <tr>\n",
              "      <th>story1</th>\n",
              "      <th></th>\n",
              "      <th></th>\n",
              "      <th></th>\n",
              "      <th></th>\n",
              "      <th></th>\n",
              "      <th></th>\n",
              "      <th></th>\n",
              "      <th></th>\n",
              "      <th></th>\n",
              "    </tr>\n",
              "  </thead>\n",
              "  <tbody>\n",
              "    <tr>\n",
              "      <th>ALAT STAPLES TEMBAK &amp;#40;AIR NAILER GUN&amp;#41; OSSEL 1022J</th>\n",
              "      <td>1.000000</td>\n",
              "      <td>0.651293</td>\n",
              "      <td>0.560478</td>\n",
              "      <td>0.674633</td>\n",
              "      <td>0.622309</td>\n",
              "      <td>0.751036</td>\n",
              "      <td>0.668105</td>\n",
              "      <td>0.674645</td>\n",
              "      <td>0.587251</td>\n",
              "    </tr>\n",
              "    <tr>\n",
              "      <th>Electric Rivet Gun Adapter</th>\n",
              "      <td>0.651293</td>\n",
              "      <td>1.000000</td>\n",
              "      <td>0.795144</td>\n",
              "      <td>0.846239</td>\n",
              "      <td>0.708044</td>\n",
              "      <td>0.699016</td>\n",
              "      <td>0.845827</td>\n",
              "      <td>0.659949</td>\n",
              "      <td>0.709897</td>\n",
              "    </tr>\n",
              "    <tr>\n",
              "      <th>ISI REFILL Staple Stapel Straples Streples Staples Paku tembak GUN</th>\n",
              "      <td>0.560478</td>\n",
              "      <td>0.795144</td>\n",
              "      <td>1.000000</td>\n",
              "      <td>0.799919</td>\n",
              "      <td>0.762014</td>\n",
              "      <td>0.638759</td>\n",
              "      <td>0.852118</td>\n",
              "      <td>0.672351</td>\n",
              "      <td>0.801751</td>\n",
              "    </tr>\n",
              "    <tr>\n",
              "      <th>Isi Refill Staples Jok Kulit Motor / Staple Gun Max t3-10 mb MAX</th>\n",
              "      <td>0.674633</td>\n",
              "      <td>0.846239</td>\n",
              "      <td>0.799919</td>\n",
              "      <td>1.000000</td>\n",
              "      <td>0.747681</td>\n",
              "      <td>0.794626</td>\n",
              "      <td>0.886889</td>\n",
              "      <td>0.857041</td>\n",
              "      <td>0.774126</td>\n",
              "    </tr>\n",
              "  </tbody>\n",
              "</table>\n",
              "</div>"
            ],
            "text/plain": [
              "story2                                              ALAT STAPLES TEMBAK &#40;AIR NAILER GUN&#41; OSSEL 1022J  \\\n",
              "story1                                                                                                         \n",
              "ALAT STAPLES TEMBAK &#40;AIR NAILER GUN&#41; OS...                                           1.000000          \n",
              "Electric Rivet Gun Adapter                                                                   0.651293          \n",
              "ISI REFILL Staple Stapel Straples Streples Stap...                                           0.560478          \n",
              "Isi Refill Staples Jok Kulit Motor / Staple Gun...                                           0.674633          \n",
              "\n",
              "story2                                              Electric Rivet Gun Adapter  \\\n",
              "story1                                                                           \n",
              "ALAT STAPLES TEMBAK &#40;AIR NAILER GUN&#41; OS...                    0.651293   \n",
              "Electric Rivet Gun Adapter                                            1.000000   \n",
              "ISI REFILL Staple Stapel Straples Streples Stap...                    0.795144   \n",
              "Isi Refill Staples Jok Kulit Motor / Staple Gun...                    0.846239   \n",
              "\n",
              "story2                                              ISI REFILL Staple Stapel Straples Streples Staples Paku tembak GUN  \\\n",
              "story1                                                                                                                   \n",
              "ALAT STAPLES TEMBAK &#40;AIR NAILER GUN&#41; OS...                                           0.560478                    \n",
              "Electric Rivet Gun Adapter                                                                   0.795144                    \n",
              "ISI REFILL Staple Stapel Straples Streples Stap...                                           1.000000                    \n",
              "Isi Refill Staples Jok Kulit Motor / Staple Gun...                                           0.799919                    \n",
              "\n",
              "story2                                              Isi Refill Staples Jok Kulit Motor / Staple Gun Max t3-10 mb MAX  \\\n",
              "story1                                                                                                                 \n",
              "ALAT STAPLES TEMBAK &#40;AIR NAILER GUN&#41; OS...                                           0.674633                  \n",
              "Electric Rivet Gun Adapter                                                                   0.846239                  \n",
              "ISI REFILL Staple Stapel Straples Streples Stap...                                           0.799919                  \n",
              "Isi Refill Staples Jok Kulit Motor / Staple Gun...                                           1.000000                  \n",
              "\n",
              "story2                                              Isi Staples Tembak 8 mm best guard  \\\n",
              "story1                                                                                   \n",
              "ALAT STAPLES TEMBAK &#40;AIR NAILER GUN&#41; OS...                            0.622309   \n",
              "Electric Rivet Gun Adapter                                                    0.708044   \n",
              "ISI REFILL Staple Stapel Straples Streples Stap...                            0.762014   \n",
              "Isi Refill Staples Jok Kulit Motor / Staple Gun...                            0.747681   \n",
              "\n",
              "story2                                              STAPLE GUN ATS 3 WAY TACKER - STAPLES JOK TEMBAK HEKTER 022708  \\\n",
              "story1                                                                                                               \n",
              "ALAT STAPLES TEMBAK &#40;AIR NAILER GUN&#41; OS...                                           0.751036                \n",
              "Electric Rivet Gun Adapter                                                                   0.699016                \n",
              "ISI REFILL Staple Stapel Straples Streples Stap...                                           0.638759                \n",
              "Isi Refill Staples Jok Kulit Motor / Staple Gun...                                           0.794626                \n",
              "\n",
              "story2                                              Staple Gun 3 in 1 Mollar Staples Tembak Stapler Tacker Hekter Heckter  \\\n",
              "story1                                                                                                                      \n",
              "ALAT STAPLES TEMBAK &#40;AIR NAILER GUN&#41; OS...                                           0.668105                       \n",
              "Electric Rivet Gun Adapter                                                                   0.845827                       \n",
              "ISI REFILL Staple Stapel Straples Streples Stap...                                           0.852118                       \n",
              "Isi Refill Staples Jok Kulit Motor / Staple Gun...                                           0.886889                       \n",
              "\n",
              "story2                                              Staples Dekorasi Staples Kayu + Refill 8mm - Staples Gun 4-8 mm C Mart  \\\n",
              "story1                                                                                                                       \n",
              "ALAT STAPLES TEMBAK &#40;AIR NAILER GUN&#41; OS...                                           0.674645                        \n",
              "Electric Rivet Gun Adapter                                                                   0.659949                        \n",
              "ISI REFILL Staple Stapel Straples Streples Stap...                                           0.672351                        \n",
              "Isi Refill Staples Jok Kulit Motor / Staple Gun...                                           0.857041                        \n",
              "\n",
              "story2                                              refill staples gun tacker manual isi paku tembak model bread nail 14mm  \n",
              "story1                                                                                                                      \n",
              "ALAT STAPLES TEMBAK &#40;AIR NAILER GUN&#41; OS...                                           0.587251                       \n",
              "Electric Rivet Gun Adapter                                                                   0.709897                       \n",
              "ISI REFILL Staple Stapel Straples Streples Stap...                                           0.801751                       \n",
              "Isi Refill Staples Jok Kulit Motor / Staple Gun...                                           0.774126                       "
            ]
          },
          "execution_count": 175,
          "metadata": {},
          "output_type": "execute_result"
        }
      ],
      "source": [
        "similarity_matrix.iloc[:4,]\n"
      ]
    },
    {
      "cell_type": "code",
      "execution_count": null,
      "metadata": {
        "id": "h_nVRO4IZvc0"
      },
      "outputs": [],
      "source": [
        "data_neighbours = pd.DataFrame(index=similarity_matrix.columns,columns=range(1,4))\n",
        " \n",
        "# Loop through our similarity dataframe and fill in neighbouring item names\n",
        "for i in range(0,len(similarity_matrix.columns)):\n",
        "    data_neighbours.iloc[i,:3] = similarity_matrix.iloc[0:,i].sort_values(ascending=False)[:3].index"
      ]
    },
    {
      "cell_type": "code",
      "execution_count": null,
      "metadata": {
        "id": "ts6EIihMZvc1",
        "outputId": "1e7df0e7-faed-4520-dce9-a295e17c925b"
      },
      "outputs": [
        {
          "data": {
            "text/html": [
              "<div>\n",
              "<style scoped>\n",
              "    .dataframe tbody tr th:only-of-type {\n",
              "        vertical-align: middle;\n",
              "    }\n",
              "\n",
              "    .dataframe tbody tr th {\n",
              "        vertical-align: top;\n",
              "    }\n",
              "\n",
              "    .dataframe thead th {\n",
              "        text-align: right;\n",
              "    }\n",
              "</style>\n",
              "<table border=\"1\" class=\"dataframe\">\n",
              "  <thead>\n",
              "    <tr style=\"text-align: right;\">\n",
              "      <th></th>\n",
              "      <th>rekomendasi1</th>\n",
              "      <th>rekomendasi2</th>\n",
              "      <th>recomendasi3</th>\n",
              "    </tr>\n",
              "    <tr>\n",
              "      <th>story2</th>\n",
              "      <th></th>\n",
              "      <th></th>\n",
              "      <th></th>\n",
              "    </tr>\n",
              "  </thead>\n",
              "  <tbody>\n",
              "    <tr>\n",
              "      <th>ALAT STAPLES TEMBAK &amp;#40;AIR NAILER GUN&amp;#41; OSSEL 1022J</th>\n",
              "      <td>ALAT STAPLES TEMBAK &amp;#40;AIR NAILER GUN&amp;#41; O...</td>\n",
              "      <td>STAPLE GUN ATS 3 WAY TACKER - STAPLES JOK TEMB...</td>\n",
              "      <td>Staples Dekorasi Staples Kayu + Refill 8mm - S...</td>\n",
              "    </tr>\n",
              "    <tr>\n",
              "      <th>Electric Rivet Gun Adapter</th>\n",
              "      <td>Electric Rivet Gun Adapter</td>\n",
              "      <td>Isi Refill Staples Jok Kulit Motor / Staple Gu...</td>\n",
              "      <td>Staple Gun 3 in 1 Mollar Staples Tembak Staple...</td>\n",
              "    </tr>\n",
              "    <tr>\n",
              "      <th>ISI REFILL Staple Stapel Straples Streples Staples Paku tembak GUN</th>\n",
              "      <td>ISI REFILL Staple Stapel Straples Streples Sta...</td>\n",
              "      <td>Staple Gun 3 in 1 Mollar Staples Tembak Staple...</td>\n",
              "      <td>refill staples gun tacker manual isi paku temb...</td>\n",
              "    </tr>\n",
              "    <tr>\n",
              "      <th>Isi Refill Staples Jok Kulit Motor / Staple Gun Max t3-10 mb MAX</th>\n",
              "      <td>Isi Refill Staples Jok Kulit Motor / Staple Gu...</td>\n",
              "      <td>Staple Gun 3 in 1 Mollar Staples Tembak Staple...</td>\n",
              "      <td>Staples Dekorasi Staples Kayu + Refill 8mm - S...</td>\n",
              "    </tr>\n",
              "    <tr>\n",
              "      <th>Isi Staples Tembak 8 mm best guard</th>\n",
              "      <td>Isi Staples Tembak 8 mm best guard</td>\n",
              "      <td>refill staples gun tacker manual isi paku temb...</td>\n",
              "      <td>ISI REFILL Staple Stapel Straples Streples Sta...</td>\n",
              "    </tr>\n",
              "    <tr>\n",
              "      <th>STAPLE GUN ATS 3 WAY TACKER - STAPLES JOK TEMBAK HEKTER 022708</th>\n",
              "      <td>STAPLE GUN ATS 3 WAY TACKER - STAPLES JOK TEMB...</td>\n",
              "      <td>Isi Refill Staples Jok Kulit Motor / Staple Gu...</td>\n",
              "      <td>Staple Gun 3 in 1 Mollar Staples Tembak Staple...</td>\n",
              "    </tr>\n",
              "    <tr>\n",
              "      <th>Staple Gun 3 in 1 Mollar Staples Tembak Stapler Tacker Hekter Heckter</th>\n",
              "      <td>Staple Gun 3 in 1 Mollar Staples Tembak Staple...</td>\n",
              "      <td>Isi Refill Staples Jok Kulit Motor / Staple Gu...</td>\n",
              "      <td>ISI REFILL Staple Stapel Straples Streples Sta...</td>\n",
              "    </tr>\n",
              "    <tr>\n",
              "      <th>Staples Dekorasi Staples Kayu + Refill 8mm - Staples Gun 4-8 mm C Mart</th>\n",
              "      <td>Staples Dekorasi Staples Kayu + Refill 8mm - S...</td>\n",
              "      <td>Isi Refill Staples Jok Kulit Motor / Staple Gu...</td>\n",
              "      <td>Staple Gun 3 in 1 Mollar Staples Tembak Staple...</td>\n",
              "    </tr>\n",
              "    <tr>\n",
              "      <th>refill staples gun tacker manual isi paku tembak model bread nail 14mm</th>\n",
              "      <td>refill staples gun tacker manual isi paku temb...</td>\n",
              "      <td>ISI REFILL Staple Stapel Straples Streples Sta...</td>\n",
              "      <td>Isi Staples Tembak 8 mm best guard</td>\n",
              "    </tr>\n",
              "  </tbody>\n",
              "</table>\n",
              "</div>"
            ],
            "text/plain": [
              "                                                                                         rekomendasi1  \\\n",
              "story2                                                                                                  \n",
              "ALAT STAPLES TEMBAK &#40;AIR NAILER GUN&#41; OS...  ALAT STAPLES TEMBAK &#40;AIR NAILER GUN&#41; O...   \n",
              "Electric Rivet Gun Adapter                                                 Electric Rivet Gun Adapter   \n",
              "ISI REFILL Staple Stapel Straples Streples Stap...  ISI REFILL Staple Stapel Straples Streples Sta...   \n",
              "Isi Refill Staples Jok Kulit Motor / Staple Gun...  Isi Refill Staples Jok Kulit Motor / Staple Gu...   \n",
              "Isi Staples Tembak 8 mm best guard                                 Isi Staples Tembak 8 mm best guard   \n",
              "STAPLE GUN ATS 3 WAY TACKER - STAPLES JOK TEMBA...  STAPLE GUN ATS 3 WAY TACKER - STAPLES JOK TEMB...   \n",
              "Staple Gun 3 in 1 Mollar Staples Tembak Stapler...  Staple Gun 3 in 1 Mollar Staples Tembak Staple...   \n",
              "Staples Dekorasi Staples Kayu + Refill 8mm - St...  Staples Dekorasi Staples Kayu + Refill 8mm - S...   \n",
              "refill staples gun tacker manual isi paku temba...  refill staples gun tacker manual isi paku temb...   \n",
              "\n",
              "                                                                                         rekomendasi2  \\\n",
              "story2                                                                                                  \n",
              "ALAT STAPLES TEMBAK &#40;AIR NAILER GUN&#41; OS...  STAPLE GUN ATS 3 WAY TACKER - STAPLES JOK TEMB...   \n",
              "Electric Rivet Gun Adapter                          Isi Refill Staples Jok Kulit Motor / Staple Gu...   \n",
              "ISI REFILL Staple Stapel Straples Streples Stap...  Staple Gun 3 in 1 Mollar Staples Tembak Staple...   \n",
              "Isi Refill Staples Jok Kulit Motor / Staple Gun...  Staple Gun 3 in 1 Mollar Staples Tembak Staple...   \n",
              "Isi Staples Tembak 8 mm best guard                  refill staples gun tacker manual isi paku temb...   \n",
              "STAPLE GUN ATS 3 WAY TACKER - STAPLES JOK TEMBA...  Isi Refill Staples Jok Kulit Motor / Staple Gu...   \n",
              "Staple Gun 3 in 1 Mollar Staples Tembak Stapler...  Isi Refill Staples Jok Kulit Motor / Staple Gu...   \n",
              "Staples Dekorasi Staples Kayu + Refill 8mm - St...  Isi Refill Staples Jok Kulit Motor / Staple Gu...   \n",
              "refill staples gun tacker manual isi paku temba...  ISI REFILL Staple Stapel Straples Streples Sta...   \n",
              "\n",
              "                                                                                         recomendasi3  \n",
              "story2                                                                                                 \n",
              "ALAT STAPLES TEMBAK &#40;AIR NAILER GUN&#41; OS...  Staples Dekorasi Staples Kayu + Refill 8mm - S...  \n",
              "Electric Rivet Gun Adapter                          Staple Gun 3 in 1 Mollar Staples Tembak Staple...  \n",
              "ISI REFILL Staple Stapel Straples Streples Stap...  refill staples gun tacker manual isi paku temb...  \n",
              "Isi Refill Staples Jok Kulit Motor / Staple Gun...  Staples Dekorasi Staples Kayu + Refill 8mm - S...  \n",
              "Isi Staples Tembak 8 mm best guard                  ISI REFILL Staple Stapel Straples Streples Sta...  \n",
              "STAPLE GUN ATS 3 WAY TACKER - STAPLES JOK TEMBA...  Staple Gun 3 in 1 Mollar Staples Tembak Staple...  \n",
              "Staple Gun 3 in 1 Mollar Staples Tembak Stapler...  ISI REFILL Staple Stapel Straples Streples Sta...  \n",
              "Staples Dekorasi Staples Kayu + Refill 8mm - St...  Staple Gun 3 in 1 Mollar Staples Tembak Staple...  \n",
              "refill staples gun tacker manual isi paku temba...                 Isi Staples Tembak 8 mm best guard  "
            ]
          },
          "execution_count": 182,
          "metadata": {},
          "output_type": "execute_result"
        }
      ],
      "source": [
        "data_neighbours.rename(columns={1:'rekomendasi1',2:'rekomendasi2',3:'recomendasi3'})"
      ]
    },
    {
      "cell_type": "code",
      "execution_count": null,
      "metadata": {
        "id": "tnxjZB0GZvc1",
        "outputId": "0392529d-903b-403c-9bc0-800aeea5cefc"
      },
      "outputs": [
        {
          "data": {
            "text/html": [
              "<div>\n",
              "<style scoped>\n",
              "    .dataframe tbody tr th:only-of-type {\n",
              "        vertical-align: middle;\n",
              "    }\n",
              "\n",
              "    .dataframe tbody tr th {\n",
              "        vertical-align: top;\n",
              "    }\n",
              "\n",
              "    .dataframe thead th {\n",
              "        text-align: right;\n",
              "    }\n",
              "</style>\n",
              "<table border=\"1\" class=\"dataframe\">\n",
              "  <thead>\n",
              "    <tr style=\"text-align: right;\">\n",
              "      <th></th>\n",
              "      <th>1</th>\n",
              "      <th>2</th>\n",
              "      <th>3</th>\n",
              "    </tr>\n",
              "    <tr>\n",
              "      <th>story2</th>\n",
              "      <th></th>\n",
              "      <th></th>\n",
              "      <th></th>\n",
              "    </tr>\n",
              "  </thead>\n",
              "  <tbody>\n",
              "    <tr>\n",
              "      <th>ALAT STAPLES TEMBAK &amp;#40;AIR NAILER GUN&amp;#41; OSSEL 1022J</th>\n",
              "      <td>ALAT STAPLES TEMBAK &amp;#40;AIR NAILER GUN&amp;#41; O...</td>\n",
              "      <td>STAPLE GUN ATS 3 WAY TACKER - STAPLES JOK TEMB...</td>\n",
              "      <td>Staples Dekorasi Staples Kayu + Refill 8mm - S...</td>\n",
              "    </tr>\n",
              "    <tr>\n",
              "      <th>Electric Rivet Gun Adapter</th>\n",
              "      <td>Electric Rivet Gun Adapter</td>\n",
              "      <td>Isi Refill Staples Jok Kulit Motor / Staple Gu...</td>\n",
              "      <td>Staple Gun 3 in 1 Mollar Staples Tembak Staple...</td>\n",
              "    </tr>\n",
              "    <tr>\n",
              "      <th>ISI REFILL Staple Stapel Straples Streples Staples Paku tembak GUN</th>\n",
              "      <td>ISI REFILL Staple Stapel Straples Streples Sta...</td>\n",
              "      <td>Staple Gun 3 in 1 Mollar Staples Tembak Staple...</td>\n",
              "      <td>refill staples gun tacker manual isi paku temb...</td>\n",
              "    </tr>\n",
              "    <tr>\n",
              "      <th>Isi Refill Staples Jok Kulit Motor / Staple Gun Max t3-10 mb MAX</th>\n",
              "      <td>Isi Refill Staples Jok Kulit Motor / Staple Gu...</td>\n",
              "      <td>Staple Gun 3 in 1 Mollar Staples Tembak Staple...</td>\n",
              "      <td>Staples Dekorasi Staples Kayu + Refill 8mm - S...</td>\n",
              "    </tr>\n",
              "    <tr>\n",
              "      <th>Isi Staples Tembak 8 mm best guard</th>\n",
              "      <td>Isi Staples Tembak 8 mm best guard</td>\n",
              "      <td>refill staples gun tacker manual isi paku temb...</td>\n",
              "      <td>ISI REFILL Staple Stapel Straples Streples Sta...</td>\n",
              "    </tr>\n",
              "    <tr>\n",
              "      <th>STAPLE GUN ATS 3 WAY TACKER - STAPLES JOK TEMBAK HEKTER 022708</th>\n",
              "      <td>STAPLE GUN ATS 3 WAY TACKER - STAPLES JOK TEMB...</td>\n",
              "      <td>Isi Refill Staples Jok Kulit Motor / Staple Gu...</td>\n",
              "      <td>Staple Gun 3 in 1 Mollar Staples Tembak Staple...</td>\n",
              "    </tr>\n",
              "    <tr>\n",
              "      <th>Staple Gun 3 in 1 Mollar Staples Tembak Stapler Tacker Hekter Heckter</th>\n",
              "      <td>Staple Gun 3 in 1 Mollar Staples Tembak Staple...</td>\n",
              "      <td>Isi Refill Staples Jok Kulit Motor / Staple Gu...</td>\n",
              "      <td>ISI REFILL Staple Stapel Straples Streples Sta...</td>\n",
              "    </tr>\n",
              "    <tr>\n",
              "      <th>Staples Dekorasi Staples Kayu + Refill 8mm - Staples Gun 4-8 mm C Mart</th>\n",
              "      <td>Staples Dekorasi Staples Kayu + Refill 8mm - S...</td>\n",
              "      <td>Isi Refill Staples Jok Kulit Motor / Staple Gu...</td>\n",
              "      <td>Staple Gun 3 in 1 Mollar Staples Tembak Staple...</td>\n",
              "    </tr>\n",
              "    <tr>\n",
              "      <th>refill staples gun tacker manual isi paku tembak model bread nail 14mm</th>\n",
              "      <td>refill staples gun tacker manual isi paku temb...</td>\n",
              "      <td>ISI REFILL Staple Stapel Straples Streples Sta...</td>\n",
              "      <td>Isi Staples Tembak 8 mm best guard</td>\n",
              "    </tr>\n",
              "  </tbody>\n",
              "</table>\n",
              "</div>"
            ],
            "text/plain": [
              "                                                                                                    1  \\\n",
              "story2                                                                                                  \n",
              "ALAT STAPLES TEMBAK &#40;AIR NAILER GUN&#41; OS...  ALAT STAPLES TEMBAK &#40;AIR NAILER GUN&#41; O...   \n",
              "Electric Rivet Gun Adapter                                                 Electric Rivet Gun Adapter   \n",
              "ISI REFILL Staple Stapel Straples Streples Stap...  ISI REFILL Staple Stapel Straples Streples Sta...   \n",
              "Isi Refill Staples Jok Kulit Motor / Staple Gun...  Isi Refill Staples Jok Kulit Motor / Staple Gu...   \n",
              "Isi Staples Tembak 8 mm best guard                                 Isi Staples Tembak 8 mm best guard   \n",
              "STAPLE GUN ATS 3 WAY TACKER - STAPLES JOK TEMBA...  STAPLE GUN ATS 3 WAY TACKER - STAPLES JOK TEMB...   \n",
              "Staple Gun 3 in 1 Mollar Staples Tembak Stapler...  Staple Gun 3 in 1 Mollar Staples Tembak Staple...   \n",
              "Staples Dekorasi Staples Kayu + Refill 8mm - St...  Staples Dekorasi Staples Kayu + Refill 8mm - S...   \n",
              "refill staples gun tacker manual isi paku temba...  refill staples gun tacker manual isi paku temb...   \n",
              "\n",
              "                                                                                                    2  \\\n",
              "story2                                                                                                  \n",
              "ALAT STAPLES TEMBAK &#40;AIR NAILER GUN&#41; OS...  STAPLE GUN ATS 3 WAY TACKER - STAPLES JOK TEMB...   \n",
              "Electric Rivet Gun Adapter                          Isi Refill Staples Jok Kulit Motor / Staple Gu...   \n",
              "ISI REFILL Staple Stapel Straples Streples Stap...  Staple Gun 3 in 1 Mollar Staples Tembak Staple...   \n",
              "Isi Refill Staples Jok Kulit Motor / Staple Gun...  Staple Gun 3 in 1 Mollar Staples Tembak Staple...   \n",
              "Isi Staples Tembak 8 mm best guard                  refill staples gun tacker manual isi paku temb...   \n",
              "STAPLE GUN ATS 3 WAY TACKER - STAPLES JOK TEMBA...  Isi Refill Staples Jok Kulit Motor / Staple Gu...   \n",
              "Staple Gun 3 in 1 Mollar Staples Tembak Stapler...  Isi Refill Staples Jok Kulit Motor / Staple Gu...   \n",
              "Staples Dekorasi Staples Kayu + Refill 8mm - St...  Isi Refill Staples Jok Kulit Motor / Staple Gu...   \n",
              "refill staples gun tacker manual isi paku temba...  ISI REFILL Staple Stapel Straples Streples Sta...   \n",
              "\n",
              "                                                                                                    3  \n",
              "story2                                                                                                 \n",
              "ALAT STAPLES TEMBAK &#40;AIR NAILER GUN&#41; OS...  Staples Dekorasi Staples Kayu + Refill 8mm - S...  \n",
              "Electric Rivet Gun Adapter                          Staple Gun 3 in 1 Mollar Staples Tembak Staple...  \n",
              "ISI REFILL Staple Stapel Straples Streples Stap...  refill staples gun tacker manual isi paku temb...  \n",
              "Isi Refill Staples Jok Kulit Motor / Staple Gun...  Staples Dekorasi Staples Kayu + Refill 8mm - S...  \n",
              "Isi Staples Tembak 8 mm best guard                  ISI REFILL Staple Stapel Straples Streples Sta...  \n",
              "STAPLE GUN ATS 3 WAY TACKER - STAPLES JOK TEMBA...  Staple Gun 3 in 1 Mollar Staples Tembak Staple...  \n",
              "Staple Gun 3 in 1 Mollar Staples Tembak Stapler...  ISI REFILL Staple Stapel Straples Streples Sta...  \n",
              "Staples Dekorasi Staples Kayu + Refill 8mm - St...  Staple Gun 3 in 1 Mollar Staples Tembak Staple...  \n",
              "refill staples gun tacker manual isi paku temba...                 Isi Staples Tembak 8 mm best guard  "
            ]
          },
          "execution_count": 183,
          "metadata": {},
          "output_type": "execute_result"
        }
      ],
      "source": [
        "data_neighbours.head(15)"
      ]
    },
    {
      "cell_type": "markdown",
      "metadata": {
        "id": "1cWTBCc2Zvc1"
      },
      "source": [
        "### 3. Content-based Recomendation"
      ]
    },
    {
      "cell_type": "code",
      "execution_count": null,
      "metadata": {
        "id": "mjons_V8Zvc2"
      },
      "outputs": [],
      "source": [
        "from sklearn.metrics.pairwise import cosine_similarity\n",
        "from sklearn.metrics import mean_squared_error\n",
        "from sklearn.model_selection import train_test_split\n",
        "from sklearn.feature_extraction.text import TfidfVectorizer\n",
        "from sklearn.metrics.pairwise import linear_kernel\n",
        "#putting movies data on 'movies' dataframe"
      ]
    },
    {
      "cell_type": "code",
      "execution_count": null,
      "metadata": {
        "id": "MH0ftPO7Zvc2"
      },
      "outputs": [],
      "source": [
        "dt=pd.read_csv('product_reviews_tokped.csv', low_memory=False)"
      ]
    },
    {
      "cell_type": "code",
      "execution_count": null,
      "metadata": {
        "id": "xorn3RU1Zvc2"
      },
      "outputs": [],
      "source": [
        "dt=dt[['text','product_name','rating']]"
      ]
    },
    {
      "cell_type": "code",
      "execution_count": null,
      "metadata": {
        "id": "3S2bZC3FZvc2"
      },
      "outputs": [],
      "source": [
        "dt=dt[['text','rating']]"
      ]
    },
    {
      "cell_type": "code",
      "execution_count": null,
      "metadata": {
        "id": "YdMWuqQ0Zvc3"
      },
      "outputs": [],
      "source": [
        "dt=dt.sample(5000,random_state=88)"
      ]
    },
    {
      "cell_type": "code",
      "execution_count": null,
      "metadata": {
        "id": "il0PbgOXZvc3",
        "outputId": "687c8c4a-7269-4d6e-e2bb-22bd1eaaa585"
      },
      "outputs": [
        {
          "data": {
            "text/html": [
              "<div>\n",
              "<style scoped>\n",
              "    .dataframe tbody tr th:only-of-type {\n",
              "        vertical-align: middle;\n",
              "    }\n",
              "\n",
              "    .dataframe tbody tr th {\n",
              "        vertical-align: top;\n",
              "    }\n",
              "\n",
              "    .dataframe thead th {\n",
              "        text-align: right;\n",
              "    }\n",
              "</style>\n",
              "<table border=\"1\" class=\"dataframe\">\n",
              "  <thead>\n",
              "    <tr style=\"text-align: right;\">\n",
              "      <th></th>\n",
              "      <th>text</th>\n",
              "      <th>product_name</th>\n",
              "      <th>rating</th>\n",
              "    </tr>\n",
              "  </thead>\n",
              "  <tbody>\n",
              "    <tr>\n",
              "      <th>459</th>\n",
              "      <td>kirim nya cepat    produk lumayan</td>\n",
              "      <td>Staple Gun / Staples Tembak / Staples Jok / He...</td>\n",
              "      <td>5</td>\n",
              "    </tr>\n",
              "    <tr>\n",
              "      <th>636</th>\n",
              "      <td>barang sesuai deskripsi     pengiriman cepat</td>\n",
              "      <td>staples tembak HOMASTER / steples tembak / sta...</td>\n",
              "      <td>5</td>\n",
              "    </tr>\n",
              "    <tr>\n",
              "      <th>345</th>\n",
              "      <td>barang sudah sampai terimakasih  next time ord...</td>\n",
              "      <td>Gun Tacker / Staples Tembak/ Staples Jok KANTYU</td>\n",
              "      <td>5</td>\n",
              "    </tr>\n",
              "    <tr>\n",
              "      <th>615</th>\n",
              "      <td>barang sesuai ulasan   mantap</td>\n",
              "      <td>staples tembak HOMASTER / steples tembak / sta...</td>\n",
              "      <td>4</td>\n",
              "    </tr>\n",
              "    <tr>\n",
              "      <th>1177</th>\n",
              "      <td>barang ok banget    siiiiiiiiiiiiiiiiiiiipppp</td>\n",
              "      <td>Staples Gun Tacker 4-14mm 3in1 3 in 1 MURAH</td>\n",
              "      <td>5</td>\n",
              "    </tr>\n",
              "    <tr>\n",
              "      <th>...</th>\n",
              "      <td>...</td>\n",
              "      <td>...</td>\n",
              "      <td>...</td>\n",
              "    </tr>\n",
              "    <tr>\n",
              "      <th>503</th>\n",
              "      <td>tiba lebih cepat</td>\n",
              "      <td>Isi Staples / Gun Tacker 13/8 Ukuran 8 mm Harg...</td>\n",
              "      <td>5</td>\n",
              "    </tr>\n",
              "    <tr>\n",
              "      <th>151</th>\n",
              "      <td></td>\n",
              "      <td>Staple Gun / Staples Tembak / Staples Jok / He...</td>\n",
              "      <td>5</td>\n",
              "    </tr>\n",
              "    <tr>\n",
              "      <th>1103</th>\n",
              "      <td>isi masih lebih bagus bawahannya staples gun t...</td>\n",
              "      <td>GUN TACKLER 3IN1. ALAT HEKTAR TEMBAK. STAPLES ...</td>\n",
              "      <td>5</td>\n",
              "    </tr>\n",
              "    <tr>\n",
              "      <th>957</th>\n",
              "      <td>responsif   langsung diproses  amp  dikirim ga...</td>\n",
              "      <td>Staples Gun Tacker Mollar 3 in 1 / Staple Jok ...</td>\n",
              "      <td>5</td>\n",
              "    </tr>\n",
              "    <tr>\n",
              "      <th>1510</th>\n",
              "      <td>barang sudah sampai dan sesuai harapan</td>\n",
              "      <td>Anak / Isi Hekter Tembak</td>\n",
              "      <td>5</td>\n",
              "    </tr>\n",
              "  </tbody>\n",
              "</table>\n",
              "<p>90 rows × 3 columns</p>\n",
              "</div>"
            ],
            "text/plain": [
              "                                                   text  \\\n",
              "459                kirim nya cepat    produk lumayan      \n",
              "636     barang sesuai deskripsi     pengiriman cepat      \n",
              "345   barang sudah sampai terimakasih  next time ord...   \n",
              "615                       barang sesuai ulasan   mantap   \n",
              "1177      barang ok banget    siiiiiiiiiiiiiiiiiiiipppp   \n",
              "...                                                 ...   \n",
              "503                           tiba lebih cepat            \n",
              "151                                                       \n",
              "1103  isi masih lebih bagus bawahannya staples gun t...   \n",
              "957   responsif   langsung diproses  amp  dikirim ga...   \n",
              "1510             barang sudah sampai dan sesuai harapan   \n",
              "\n",
              "                                           product_name  rating  \n",
              "459   Staple Gun / Staples Tembak / Staples Jok / He...       5  \n",
              "636   staples tembak HOMASTER / steples tembak / sta...       5  \n",
              "345     Gun Tacker / Staples Tembak/ Staples Jok KANTYU       5  \n",
              "615   staples tembak HOMASTER / steples tembak / sta...       4  \n",
              "1177        Staples Gun Tacker 4-14mm 3in1 3 in 1 MURAH       5  \n",
              "...                                                 ...     ...  \n",
              "503   Isi Staples / Gun Tacker 13/8 Ukuran 8 mm Harg...       5  \n",
              "151   Staple Gun / Staples Tembak / Staples Jok / He...       5  \n",
              "1103  GUN TACKLER 3IN1. ALAT HEKTAR TEMBAK. STAPLES ...       5  \n",
              "957   Staples Gun Tacker Mollar 3 in 1 / Staple Jok ...       5  \n",
              "1510                           Anak / Isi Hekter Tembak       5  \n",
              "\n",
              "[90 rows x 3 columns]"
            ]
          },
          "execution_count": 23,
          "metadata": {},
          "output_type": "execute_result"
        }
      ],
      "source": [
        "dt[dt['product_name'].index <2000]"
      ]
    },
    {
      "cell_type": "code",
      "execution_count": null,
      "metadata": {
        "id": "4VMYGFarZvc3"
      },
      "outputs": [],
      "source": [
        "tfidf = TfidfVectorizer(stop_words=stopwordss)"
      ]
    },
    {
      "cell_type": "code",
      "execution_count": null,
      "metadata": {
        "id": "n0bfitygZvc3"
      },
      "outputs": [],
      "source": [
        "import re\n",
        "import string"
      ]
    },
    {
      "cell_type": "code",
      "execution_count": null,
      "metadata": {
        "id": "2SobtqOgZvc3"
      },
      "outputs": [],
      "source": [
        "from stop_words import get_stop_words\n",
        "\n",
        "stopwordss = get_stop_words('indonesian')\n"
      ]
    },
    {
      "cell_type": "code",
      "execution_count": null,
      "metadata": {
        "id": "V8pkELWGZvc4"
      },
      "outputs": [],
      "source": [
        "alphanumeric = lambda x: re.sub('\\w*\\d\\w*', ' ', x)\n",
        "punc_lower = lambda x: re.sub('[%s]' % re.escape(string.punctuation), ' ', x.lower())\n",
        "remove_n = lambda x: re.sub(\"\\n\", \" \", x)\n",
        "remove_non_ascii = lambda x: re.sub(r'[^\\x00-\\x7f]',r' ', x)\n",
        "dt['text'] = dt['text'].map(alphanumeric).map(punc_lower).map(remove_n).map(remove_non_ascii)\n",
        "# Removing special characters"
      ]
    },
    {
      "cell_type": "code",
      "execution_count": null,
      "metadata": {
        "id": "-3PYZi4OZvc4"
      },
      "outputs": [],
      "source": [
        "dt=dt.reset_index()"
      ]
    },
    {
      "cell_type": "code",
      "execution_count": null,
      "metadata": {
        "id": "2hM0ta7vZvc4",
        "outputId": "b74b3eb0-fe2a-4c79-8519-188e7b978eda"
      },
      "outputs": [
        {
          "data": {
            "text/plain": [
              "0       THERMAL PASTA SUNTIK BESAR SILVER PENDINGIN PR...\n",
              "1       X04 Rak sepatu 4 SUSUN payung holder lemari se...\n",
              "2       BATA Sepatu Pria NEVADA 8114038 - Cokelat Tua, 40\n",
              "3       Decker / Dekker Lutut / Knee Support Open Pate...\n",
              "4       Alfalink EI 21SE - Kamus Elektronik Electronic...\n",
              "                              ...                        \n",
              "4995    USB HUB 4 port USB 3.0 / USB HUB 3.0 &#40;4por...\n",
              "4996    TINTA / CATRIDGE HP 680 BLACK / COLOR ORIGINAL...\n",
              "4997           TP-LINK TL-WR 840N 300MBps Wireless Router\n",
              "4998    USB HUB 3.0 7 port by DIGIGEAR HIGH SPEED 1.2 ...\n",
              "4999    Gamepad single Usb M-Tech/stick laptop/stick p...\n",
              "Name: product_name, Length: 5000, dtype: object"
            ]
          },
          "execution_count": 72,
          "metadata": {},
          "output_type": "execute_result"
        }
      ],
      "source": [
        "dt['product_name']"
      ]
    },
    {
      "cell_type": "code",
      "execution_count": null,
      "metadata": {
        "id": "BHlF5IJeZvc4",
        "outputId": "c8e2469c-2ae6-4230-c212-beb9ad8b0d95"
      },
      "outputs": [
        {
          "name": "stdout",
          "output_type": "stream",
          "text": [
            "Collecting stop-words\n",
            "  Downloading stop-words-2018.7.23.tar.gz (31 kB)\n",
            "  Preparing metadata (setup.py): started\n",
            "  Preparing metadata (setup.py): finished with status 'done'\n",
            "Building wheels for collected packages: stop-words\n",
            "  Building wheel for stop-words (setup.py): started\n",
            "  Building wheel for stop-words (setup.py): finished with status 'done'\n",
            "  Created wheel for stop-words: filename=stop_words-2018.7.23-py3-none-any.whl size=32912 sha256=2565f00c98eee3913ef72a4b615d6700903af3c48bd037933224ce095366c0e8\n",
            "  Stored in directory: c:\\users\\user\\appdata\\local\\pip\\cache\\wheels\\fb\\86\\b2\\277b10b1ce9f73ce15059bf6975d4547cc4ec3feeb651978e9\n",
            "Successfully built stop-words\n",
            "Installing collected packages: stop-words\n",
            "Successfully installed stop-words-2018.7.23\n"
          ]
        },
        {
          "name": "stderr",
          "output_type": "stream",
          "text": [
            "WARNING: pip is being invoked by an old script wrapper. This will fail in a future version of pip.\n",
            "Please see https://github.com/pypa/pip/issues/5599 for advice on fixing the underlying issue.\n",
            "To avoid this problem you can invoke Python with '-m pip' instead of running pip directly.\n",
            "WARNING: Ignoring invalid distribution -atplotlib (c:\\users\\user\\anaconda3\\lib\\site-packages)\n",
            "WARNING: Ignoring invalid distribution -atplotlib (c:\\users\\user\\anaconda3\\lib\\site-packages)\n",
            "WARNING: Ignoring invalid distribution -atplotlib (c:\\users\\user\\anaconda3\\lib\\site-packages)\n",
            "WARNING: Ignoring invalid distribution -atplotlib (c:\\users\\user\\anaconda3\\lib\\site-packages)\n",
            "WARNING: Ignoring invalid distribution -atplotlib (c:\\users\\user\\anaconda3\\lib\\site-packages)\n"
          ]
        }
      ],
      "source": [
        "!pip install stop-words"
      ]
    },
    {
      "cell_type": "code",
      "execution_count": null,
      "metadata": {
        "id": "fIF_Ste_Zvc5",
        "outputId": "d38f2a8f-71d4-4e65-dd2d-2a6f29e70d47"
      },
      "outputs": [
        {
          "data": {
            "text/plain": [
              "(5000, 4097)"
            ]
          },
          "execution_count": 78,
          "metadata": {},
          "output_type": "execute_result"
        }
      ],
      "source": [
        "#Construct the required TF-IDF matrix by applying the fit_transform method on the overview feature\n",
        "overview_matrix = tfidf.fit_transform(dt['text'])\n",
        "#Output the shape of tfidf_matrix\n",
        "overview_matrix.shape"
      ]
    },
    {
      "cell_type": "code",
      "execution_count": null,
      "metadata": {
        "id": "Vc5YEFEbZvc5",
        "outputId": "1ec481c9-e491-45b2-ff74-7d9a7c72f338"
      },
      "outputs": [
        {
          "data": {
            "text/plain": [
              "array([[1.        , 0.        , 0.18922659, ..., 0.12487156, 0.        ,\n",
              "        0.        ],\n",
              "       [0.        , 1.        , 0.        , ..., 0.        , 0.        ,\n",
              "        0.10830709],\n",
              "       [0.18922659, 0.        , 1.        , ..., 0.        , 0.        ,\n",
              "        0.        ],\n",
              "       ...,\n",
              "       [0.12487156, 0.        , 0.        , ..., 1.        , 0.642883  ,\n",
              "        0.05345765],\n",
              "       [0.        , 0.        , 0.        , ..., 0.642883  , 1.        ,\n",
              "        0.083153  ],\n",
              "       [0.        , 0.10830709, 0.        , ..., 0.05345765, 0.083153  ,\n",
              "        1.        ]])"
            ]
          },
          "execution_count": 79,
          "metadata": {},
          "output_type": "execute_result"
        }
      ],
      "source": [
        "similarity_matrix = linear_kernel(overview_matrix,overview_matrix)\n",
        "similarity_matrix"
      ]
    },
    {
      "cell_type": "code",
      "execution_count": null,
      "metadata": {
        "id": "VOo9nE0hZvc5",
        "outputId": "2793c9ba-9a8f-410b-d402-615a3995e9af"
      },
      "outputs": [
        {
          "data": {
            "text/plain": [
              "product_name\n",
              "THERMAL PASTA SUNTIK BESAR SILVER PENDINGIN PROCESSOR / THERMAL GREASE           0\n",
              "X04 Rak sepatu 4 SUSUN payung holder lemari sepatu murah                         1\n",
              "BATA Sepatu Pria NEVADA 8114038 - Cokelat Tua, 40                                2\n",
              "Decker / Dekker Lutut / Knee Support Open Patela WInstar 611                     3\n",
              "Alfalink EI 21SE - Kamus Elektronik Electronic Dictionary EI-21SE                4\n",
              "                                                                              ... \n",
              "USB HUB 4 port USB 3.0 / USB HUB 3.0 &#40;4port&#41; DIGIGEAR HIGH QUALITY    4995\n",
              "TINTA / CATRIDGE HP 680 BLACK / COLOR ORIGINAL 100%                           4996\n",
              "TP-LINK TL-WR 840N 300MBps Wireless Router                                    4997\n",
              "USB HUB 3.0 7 port by DIGIGEAR HIGH SPEED 1.2 meter                           4998\n",
              "Gamepad single Usb M-Tech/stick laptop/stick pc/joystick                      4999\n",
              "Length: 5000, dtype: int64"
            ]
          },
          "execution_count": 80,
          "metadata": {},
          "output_type": "execute_result"
        }
      ],
      "source": [
        "#movies index mapping\n",
        "mapping = pd.Series(dt.index,index = dt['product_name'])\n",
        "mapping"
      ]
    },
    {
      "cell_type": "code",
      "execution_count": null,
      "metadata": {
        "id": "Mu1wg2rOZvc5",
        "outputId": "35336a6d-6b2a-48c6-da36-3a1b9c55e779"
      },
      "outputs": [
        {
          "data": {
            "text/plain": [
              "array(['THERMAL PASTA SUNTIK BESAR SILVER PENDINGIN PROCESSOR / THERMAL GREASE',\n",
              "       'X04 Rak sepatu 4 SUSUN payung holder lemari sepatu murah',\n",
              "       'BATA Sepatu Pria NEVADA 8114038 - Cokelat Tua, 40', ...,\n",
              "       'Adaptor Charger Laptop Lenovo IdeaPad B40 B40-30 B40-45 B40-70 B40-80',\n",
              "       '&#40;EH141&#41;Mp3 Suffle Mini LCD Pemutar Music Player Bahan Besi Slot Memory',\n",
              "       'Sepatu Bata Xandy Black - 8516336'], dtype=object)"
            ]
          },
          "execution_count": 76,
          "metadata": {},
          "output_type": "execute_result"
        }
      ],
      "source": [
        "dt['product_name'].unique()"
      ]
    },
    {
      "cell_type": "code",
      "execution_count": null,
      "metadata": {
        "id": "QWXDdhQnZvc6"
      },
      "outputs": [],
      "source": [
        "def recommend_product(inputs):\n",
        "    dt_indes = mapping[inputs]\n",
        "#get similarity values with other movies\n",
        "#similarity_score is the list of index and similarity matrix\n",
        "    similarity_score = list(enumerate(similarity_matrix[dt_indes]))\n",
        "#sort in descending order the similarity score of movie inputted with all the other movies\n",
        "    similarity_score = sorted(similarity_score, key=lambda x: x[1], reverse=True)\n",
        "# Get the scores of the 15 most similar movies. Ignore the first movie.\n",
        "    similarity_score = similarity_score[1:15]\n",
        "#return movie names using the mapping series\n",
        "    indices = [i[0] for i in similarity_score]\n",
        "    return (dt['product_name'].iloc[indices])"
      ]
    },
    {
      "cell_type": "code",
      "execution_count": null,
      "metadata": {
        "id": "QRt2fZOVZvc6",
        "outputId": "b241ff0c-9d16-4823-e766-23945633e3c6"
      },
      "outputs": [
        {
          "name": "stdout",
          "output_type": "stream",
          "text": [
            "Rekomendasi Produk berdasarkan review untuk produk : THERMAL PASTA SUNTIK BESAR SILVER PENDINGIN PROCESSOR / THERMAL GREASE \n"
          ]
        },
        {
          "data": {
            "text/plain": [
              "4628    TINTA / CATRIDGE HP 680 BLACK / COLOR ORIGINAL...\n",
              "3473          ABS AB Roller Double Wheel Exercise Kettler\n",
              "3486    &#40;FJ068&#41; Headset / Handsfree Xiaomi MI ...\n",
              "1616    Deker / Dekker Lutut / Knee Support Open Patel...\n",
              "1106    Gamepad single Usb M-Tech/stick laptop/stick p...\n",
              "951     Switch HUB TP LINK 5 Port TL-SF1005D 10/100Mbp...\n",
              "4773    COOLINGPAD LIPAT KEPITING 14 INCH / COOLING FA...\n",
              "394            Jam Tangan Pria Teiwe Collection TC-CG3002\n",
              "4970    Baterai ORIGINAL Sony VPC-B, M, S, Y Series VG...\n",
              "1992    Jam Tangan Pria TIMEX Analog Elevated - TW4B06600\n",
              "840     TOSHIBA FLASH AIR WIRELESS SD CARD 32GB ORIGIN...\n",
              "756     Alfalink EI 215 - Kamus Elektronik Alfalink EI...\n",
              "3353    staples tembak HOMASTER / steples tembak / sta...\n",
              "860                 Mouse Wireless Logitech M170 Original\n",
              "Name: product_name, dtype: object"
            ]
          },
          "execution_count": 86,
          "metadata": {},
          "output_type": "execute_result"
        }
      ],
      "source": [
        "print('Rekomendasi Produk berdasarkan review untuk produk : THERMAL PASTA SUNTIK BESAR SILVER PENDINGIN PROCESSOR / THERMAL GREASE ')\n",
        "recommend_product('THERMAL PASTA SUNTIK BESAR SILVER PENDINGIN PROCESSOR / THERMAL GREASE')"
      ]
    }
  ],
  "metadata": {
    "kernelspec": {
      "display_name": "Python 3",
      "language": "python",
      "name": "python3"
    },
    "language_info": {
      "codemirror_mode": {
        "name": "ipython",
        "version": 3
      },
      "file_extension": ".py",
      "mimetype": "text/x-python",
      "name": "python",
      "nbconvert_exporter": "python",
      "pygments_lexer": "ipython3",
      "version": "3.7.4"
    },
    "colab": {
      "name": "Recomendation System Tokopedia.ipynb",
      "provenance": [],
      "toc_visible": true,
      "include_colab_link": true
    }
  },
  "nbformat": 4,
  "nbformat_minor": 0
}